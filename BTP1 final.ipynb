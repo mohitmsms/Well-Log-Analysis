{
 "cells": [
  {
   "cell_type": "code",
   "execution_count": 1,
   "id": "e38510ac",
   "metadata": {},
   "outputs": [],
   "source": [
    "import pandas as pd\n",
    "import numpy as np\n",
    "import matplotlib.pyplot as plt\n",
    "from sklearn.metrics import mean_squared_error"
   ]
  },
  {
   "cell_type": "code",
   "execution_count": 65,
   "id": "4f017a6d",
   "metadata": {},
   "outputs": [
    {
     "data": {
      "text/html": [
       "<div>\n",
       "<style scoped>\n",
       "    .dataframe tbody tr th:only-of-type {\n",
       "        vertical-align: middle;\n",
       "    }\n",
       "\n",
       "    .dataframe tbody tr th {\n",
       "        vertical-align: top;\n",
       "    }\n",
       "\n",
       "    .dataframe thead th {\n",
       "        text-align: right;\n",
       "    }\n",
       "</style>\n",
       "<table border=\"1\" class=\"dataframe\">\n",
       "  <thead>\n",
       "    <tr style=\"text-align: right;\">\n",
       "      <th></th>\n",
       "      <th>IMAGE DERIVED DENSITY</th>\n",
       "      <th>BEST CALIPER,AVERAGE DIAMETER</th>\n",
       "      <th>IMAGE DERIVED PHOTOELECTRIC FACTOR</th>\n",
       "      <th>BEST THERMAL POROSITY</th>\n",
       "      <th>TOTAL POROSITY</th>\n",
       "      <th>RESISTIVITY OF WATER FILLED FORMATION</th>\n",
       "      <th>RELATIVE PERMEABILITY TO HYDROCARBON</th>\n",
       "      <th>RELATIVE PERMEABILITY TO WATER</th>\n",
       "      <th>WATER CUT</th>\n",
       "      <th>MATRIX BULK DENSITY FROM ELEMENTAL CONCENTRATIONS</th>\n",
       "      <th></th>\n",
       "      <th>.1</th>\n",
       "    </tr>\n",
       "  </thead>\n",
       "  <tbody>\n",
       "    <tr>\n",
       "      <th>0</th>\n",
       "      <td>2.5059</td>\n",
       "      <td>10.6431</td>\n",
       "      <td>18.4555</td>\n",
       "      <td>0.1919</td>\n",
       "      <td>0.1300</td>\n",
       "      <td>3.8568</td>\n",
       "      <td>0.0</td>\n",
       "      <td>1.0</td>\n",
       "      <td>1.0</td>\n",
       "      <td>2.7292</td>\n",
       "      <td>NaN</td>\n",
       "      <td>NaN</td>\n",
       "    </tr>\n",
       "    <tr>\n",
       "      <th>1</th>\n",
       "      <td>2.5460</td>\n",
       "      <td>10.7011</td>\n",
       "      <td>18.8648</td>\n",
       "      <td>0.1862</td>\n",
       "      <td>0.1111</td>\n",
       "      <td>4.9163</td>\n",
       "      <td>0.0</td>\n",
       "      <td>1.0</td>\n",
       "      <td>1.0</td>\n",
       "      <td>2.7379</td>\n",
       "      <td>NaN</td>\n",
       "      <td>NaN</td>\n",
       "    </tr>\n",
       "    <tr>\n",
       "      <th>2</th>\n",
       "      <td>2.5642</td>\n",
       "      <td>10.7012</td>\n",
       "      <td>19.3160</td>\n",
       "      <td>0.1830</td>\n",
       "      <td>0.1015</td>\n",
       "      <td>5.7882</td>\n",
       "      <td>0.0</td>\n",
       "      <td>1.0</td>\n",
       "      <td>1.0</td>\n",
       "      <td>2.7397</td>\n",
       "      <td>NaN</td>\n",
       "      <td>NaN</td>\n",
       "    </tr>\n",
       "    <tr>\n",
       "      <th>3</th>\n",
       "      <td>2.5808</td>\n",
       "      <td>10.6773</td>\n",
       "      <td>19.6845</td>\n",
       "      <td>0.1739</td>\n",
       "      <td>0.0927</td>\n",
       "      <td>6.8120</td>\n",
       "      <td>0.0</td>\n",
       "      <td>1.0</td>\n",
       "      <td>1.0</td>\n",
       "      <td>2.7413</td>\n",
       "      <td>NaN</td>\n",
       "      <td>NaN</td>\n",
       "    </tr>\n",
       "    <tr>\n",
       "      <th>4</th>\n",
       "      <td>2.5632</td>\n",
       "      <td>10.6162</td>\n",
       "      <td>19.4390</td>\n",
       "      <td>0.1547</td>\n",
       "      <td>0.1053</td>\n",
       "      <td>5.4189</td>\n",
       "      <td>0.0</td>\n",
       "      <td>1.0</td>\n",
       "      <td>1.0</td>\n",
       "      <td>2.7459</td>\n",
       "      <td>NaN</td>\n",
       "      <td>NaN</td>\n",
       "    </tr>\n",
       "    <tr>\n",
       "      <th>...</th>\n",
       "      <td>...</td>\n",
       "      <td>...</td>\n",
       "      <td>...</td>\n",
       "      <td>...</td>\n",
       "      <td>...</td>\n",
       "      <td>...</td>\n",
       "      <td>...</td>\n",
       "      <td>...</td>\n",
       "      <td>...</td>\n",
       "      <td>...</td>\n",
       "      <td>...</td>\n",
       "      <td>...</td>\n",
       "    </tr>\n",
       "    <tr>\n",
       "      <th>4844</th>\n",
       "      <td>2.4938</td>\n",
       "      <td>8.6622</td>\n",
       "      <td>2.9538</td>\n",
       "      <td>0.1388</td>\n",
       "      <td>0.1072</td>\n",
       "      <td>2.4755</td>\n",
       "      <td>0.0</td>\n",
       "      <td>1.0</td>\n",
       "      <td>1.0</td>\n",
       "      <td>2.6704</td>\n",
       "      <td>NaN</td>\n",
       "      <td>NaN</td>\n",
       "    </tr>\n",
       "    <tr>\n",
       "      <th>4845</th>\n",
       "      <td>2.4953</td>\n",
       "      <td>8.6795</td>\n",
       "      <td>3.1663</td>\n",
       "      <td>0.1429</td>\n",
       "      <td>0.1064</td>\n",
       "      <td>2.5113</td>\n",
       "      <td>0.0</td>\n",
       "      <td>1.0</td>\n",
       "      <td>1.0</td>\n",
       "      <td>2.6704</td>\n",
       "      <td>NaN</td>\n",
       "      <td>NaN</td>\n",
       "    </tr>\n",
       "    <tr>\n",
       "      <th>4846</th>\n",
       "      <td>2.5187</td>\n",
       "      <td>8.7354</td>\n",
       "      <td>3.4114</td>\n",
       "      <td>0.1303</td>\n",
       "      <td>0.0908</td>\n",
       "      <td>3.2910</td>\n",
       "      <td>0.0</td>\n",
       "      <td>1.0</td>\n",
       "      <td>1.0</td>\n",
       "      <td>2.6679</td>\n",
       "      <td>NaN</td>\n",
       "      <td>NaN</td>\n",
       "    </tr>\n",
       "    <tr>\n",
       "      <th>4847</th>\n",
       "      <td>2.5254</td>\n",
       "      <td>8.7734</td>\n",
       "      <td>4.0108</td>\n",
       "      <td>0.1365</td>\n",
       "      <td>0.0846</td>\n",
       "      <td>3.6695</td>\n",
       "      <td>0.0</td>\n",
       "      <td>1.0</td>\n",
       "      <td>1.0</td>\n",
       "      <td>2.6641</td>\n",
       "      <td>NaN</td>\n",
       "      <td>NaN</td>\n",
       "    </tr>\n",
       "    <tr>\n",
       "      <th>4848</th>\n",
       "      <td>2.5348</td>\n",
       "      <td>8.8153</td>\n",
       "      <td>4.4925</td>\n",
       "      <td>0.1320</td>\n",
       "      <td>0.0778</td>\n",
       "      <td>4.2093</td>\n",
       "      <td>0.0</td>\n",
       "      <td>1.0</td>\n",
       "      <td>1.0</td>\n",
       "      <td>2.6623</td>\n",
       "      <td>NaN</td>\n",
       "      <td>NaN</td>\n",
       "    </tr>\n",
       "  </tbody>\n",
       "</table>\n",
       "<p>4849 rows × 12 columns</p>\n",
       "</div>"
      ],
      "text/plain": [
       "      IMAGE DERIVED DENSITY  BEST CALIPER,AVERAGE DIAMETER  \\\n",
       "0                    2.5059                        10.6431   \n",
       "1                    2.5460                        10.7011   \n",
       "2                    2.5642                        10.7012   \n",
       "3                    2.5808                        10.6773   \n",
       "4                    2.5632                        10.6162   \n",
       "...                     ...                            ...   \n",
       "4844                 2.4938                         8.6622   \n",
       "4845                 2.4953                         8.6795   \n",
       "4846                 2.5187                         8.7354   \n",
       "4847                 2.5254                         8.7734   \n",
       "4848                 2.5348                         8.8153   \n",
       "\n",
       "      IMAGE DERIVED PHOTOELECTRIC FACTOR  BEST THERMAL POROSITY  \\\n",
       "0                                18.4555                 0.1919   \n",
       "1                                18.8648                 0.1862   \n",
       "2                                19.3160                 0.1830   \n",
       "3                                19.6845                 0.1739   \n",
       "4                                19.4390                 0.1547   \n",
       "...                                  ...                    ...   \n",
       "4844                              2.9538                 0.1388   \n",
       "4845                              3.1663                 0.1429   \n",
       "4846                              3.4114                 0.1303   \n",
       "4847                              4.0108                 0.1365   \n",
       "4848                              4.4925                 0.1320   \n",
       "\n",
       "      TOTAL POROSITY  RESISTIVITY OF WATER FILLED FORMATION  \\\n",
       "0             0.1300                                 3.8568   \n",
       "1             0.1111                                 4.9163   \n",
       "2             0.1015                                 5.7882   \n",
       "3             0.0927                                 6.8120   \n",
       "4             0.1053                                 5.4189   \n",
       "...              ...                                    ...   \n",
       "4844          0.1072                                 2.4755   \n",
       "4845          0.1064                                 2.5113   \n",
       "4846          0.0908                                 3.2910   \n",
       "4847          0.0846                                 3.6695   \n",
       "4848          0.0778                                 4.2093   \n",
       "\n",
       "      RELATIVE PERMEABILITY TO HYDROCARBON  RELATIVE PERMEABILITY TO WATER  \\\n",
       "0                                      0.0                             1.0   \n",
       "1                                      0.0                             1.0   \n",
       "2                                      0.0                             1.0   \n",
       "3                                      0.0                             1.0   \n",
       "4                                      0.0                             1.0   \n",
       "...                                    ...                             ...   \n",
       "4844                                   0.0                             1.0   \n",
       "4845                                   0.0                             1.0   \n",
       "4846                                   0.0                             1.0   \n",
       "4847                                   0.0                             1.0   \n",
       "4848                                   0.0                             1.0   \n",
       "\n",
       "      WATER CUT  MATRIX BULK DENSITY FROM ELEMENTAL CONCENTRATIONS       .1  \n",
       "0           1.0                                             2.7292 NaN  NaN  \n",
       "1           1.0                                             2.7379 NaN  NaN  \n",
       "2           1.0                                             2.7397 NaN  NaN  \n",
       "3           1.0                                             2.7413 NaN  NaN  \n",
       "4           1.0                                             2.7459 NaN  NaN  \n",
       "...         ...                                                ...  ..  ...  \n",
       "4844        1.0                                             2.6704 NaN  NaN  \n",
       "4845        1.0                                             2.6704 NaN  NaN  \n",
       "4846        1.0                                             2.6679 NaN  NaN  \n",
       "4847        1.0                                             2.6641 NaN  NaN  \n",
       "4848        1.0                                             2.6623 NaN  NaN  \n",
       "\n",
       "[4849 rows x 12 columns]"
      ]
     },
     "execution_count": 65,
     "metadata": {},
     "output_type": "execute_result"
    }
   ],
   "source": [
    "df=pd.read_excel(\"TOTALDATA REAL.xlsx\")\n",
    "df"
   ]
  },
  {
   "cell_type": "code",
   "execution_count": 66,
   "id": "47182709",
   "metadata": {},
   "outputs": [
    {
     "data": {
      "text/plain": [
       "Index(['IMAGE DERIVED DENSITY', 'BEST CALIPER,AVERAGE DIAMETER',\n",
       "       'IMAGE DERIVED PHOTOELECTRIC FACTOR', 'BEST THERMAL POROSITY',\n",
       "       'TOTAL POROSITY', 'RESISTIVITY OF WATER FILLED FORMATION',\n",
       "       'RELATIVE PERMEABILITY TO HYDROCARBON',\n",
       "       'RELATIVE PERMEABILITY TO WATER', 'WATER CUT',\n",
       "       'MATRIX BULK DENSITY FROM ELEMENTAL CONCENTRATIONS', ' ', ' .1'],\n",
       "      dtype='object')"
      ]
     },
     "execution_count": 66,
     "metadata": {},
     "output_type": "execute_result"
    }
   ],
   "source": [
    "df.columns"
   ]
  },
  {
   "cell_type": "code",
   "execution_count": 67,
   "id": "e5307efd",
   "metadata": {},
   "outputs": [],
   "source": [
    "df0=df.drop([' ', ' .1'],axis=1)"
   ]
  },
  {
   "cell_type": "code",
   "execution_count": 68,
   "id": "17cbacce",
   "metadata": {},
   "outputs": [
    {
     "data": {
      "text/html": [
       "<div>\n",
       "<style scoped>\n",
       "    .dataframe tbody tr th:only-of-type {\n",
       "        vertical-align: middle;\n",
       "    }\n",
       "\n",
       "    .dataframe tbody tr th {\n",
       "        vertical-align: top;\n",
       "    }\n",
       "\n",
       "    .dataframe thead th {\n",
       "        text-align: right;\n",
       "    }\n",
       "</style>\n",
       "<table border=\"1\" class=\"dataframe\">\n",
       "  <thead>\n",
       "    <tr style=\"text-align: right;\">\n",
       "      <th></th>\n",
       "      <th>IMAGE DERIVED DENSITY</th>\n",
       "      <th>BEST CALIPER,AVERAGE DIAMETER</th>\n",
       "      <th>IMAGE DERIVED PHOTOELECTRIC FACTOR</th>\n",
       "      <th>BEST THERMAL POROSITY</th>\n",
       "      <th>TOTAL POROSITY</th>\n",
       "      <th>RESISTIVITY OF WATER FILLED FORMATION</th>\n",
       "      <th>RELATIVE PERMEABILITY TO HYDROCARBON</th>\n",
       "      <th>RELATIVE PERMEABILITY TO WATER</th>\n",
       "      <th>WATER CUT</th>\n",
       "      <th>MATRIX BULK DENSITY FROM ELEMENTAL CONCENTRATIONS</th>\n",
       "    </tr>\n",
       "  </thead>\n",
       "  <tbody>\n",
       "    <tr>\n",
       "      <th>0</th>\n",
       "      <td>2.5059</td>\n",
       "      <td>10.6431</td>\n",
       "      <td>18.4555</td>\n",
       "      <td>0.1919</td>\n",
       "      <td>0.1300</td>\n",
       "      <td>3.8568</td>\n",
       "      <td>0.0</td>\n",
       "      <td>1.0</td>\n",
       "      <td>1.0</td>\n",
       "      <td>2.7292</td>\n",
       "    </tr>\n",
       "    <tr>\n",
       "      <th>1</th>\n",
       "      <td>2.5460</td>\n",
       "      <td>10.7011</td>\n",
       "      <td>18.8648</td>\n",
       "      <td>0.1862</td>\n",
       "      <td>0.1111</td>\n",
       "      <td>4.9163</td>\n",
       "      <td>0.0</td>\n",
       "      <td>1.0</td>\n",
       "      <td>1.0</td>\n",
       "      <td>2.7379</td>\n",
       "    </tr>\n",
       "    <tr>\n",
       "      <th>2</th>\n",
       "      <td>2.5642</td>\n",
       "      <td>10.7012</td>\n",
       "      <td>19.3160</td>\n",
       "      <td>0.1830</td>\n",
       "      <td>0.1015</td>\n",
       "      <td>5.7882</td>\n",
       "      <td>0.0</td>\n",
       "      <td>1.0</td>\n",
       "      <td>1.0</td>\n",
       "      <td>2.7397</td>\n",
       "    </tr>\n",
       "    <tr>\n",
       "      <th>3</th>\n",
       "      <td>2.5808</td>\n",
       "      <td>10.6773</td>\n",
       "      <td>19.6845</td>\n",
       "      <td>0.1739</td>\n",
       "      <td>0.0927</td>\n",
       "      <td>6.8120</td>\n",
       "      <td>0.0</td>\n",
       "      <td>1.0</td>\n",
       "      <td>1.0</td>\n",
       "      <td>2.7413</td>\n",
       "    </tr>\n",
       "    <tr>\n",
       "      <th>4</th>\n",
       "      <td>2.5632</td>\n",
       "      <td>10.6162</td>\n",
       "      <td>19.4390</td>\n",
       "      <td>0.1547</td>\n",
       "      <td>0.1053</td>\n",
       "      <td>5.4189</td>\n",
       "      <td>0.0</td>\n",
       "      <td>1.0</td>\n",
       "      <td>1.0</td>\n",
       "      <td>2.7459</td>\n",
       "    </tr>\n",
       "    <tr>\n",
       "      <th>...</th>\n",
       "      <td>...</td>\n",
       "      <td>...</td>\n",
       "      <td>...</td>\n",
       "      <td>...</td>\n",
       "      <td>...</td>\n",
       "      <td>...</td>\n",
       "      <td>...</td>\n",
       "      <td>...</td>\n",
       "      <td>...</td>\n",
       "      <td>...</td>\n",
       "    </tr>\n",
       "    <tr>\n",
       "      <th>4844</th>\n",
       "      <td>2.4938</td>\n",
       "      <td>8.6622</td>\n",
       "      <td>2.9538</td>\n",
       "      <td>0.1388</td>\n",
       "      <td>0.1072</td>\n",
       "      <td>2.4755</td>\n",
       "      <td>0.0</td>\n",
       "      <td>1.0</td>\n",
       "      <td>1.0</td>\n",
       "      <td>2.6704</td>\n",
       "    </tr>\n",
       "    <tr>\n",
       "      <th>4845</th>\n",
       "      <td>2.4953</td>\n",
       "      <td>8.6795</td>\n",
       "      <td>3.1663</td>\n",
       "      <td>0.1429</td>\n",
       "      <td>0.1064</td>\n",
       "      <td>2.5113</td>\n",
       "      <td>0.0</td>\n",
       "      <td>1.0</td>\n",
       "      <td>1.0</td>\n",
       "      <td>2.6704</td>\n",
       "    </tr>\n",
       "    <tr>\n",
       "      <th>4846</th>\n",
       "      <td>2.5187</td>\n",
       "      <td>8.7354</td>\n",
       "      <td>3.4114</td>\n",
       "      <td>0.1303</td>\n",
       "      <td>0.0908</td>\n",
       "      <td>3.2910</td>\n",
       "      <td>0.0</td>\n",
       "      <td>1.0</td>\n",
       "      <td>1.0</td>\n",
       "      <td>2.6679</td>\n",
       "    </tr>\n",
       "    <tr>\n",
       "      <th>4847</th>\n",
       "      <td>2.5254</td>\n",
       "      <td>8.7734</td>\n",
       "      <td>4.0108</td>\n",
       "      <td>0.1365</td>\n",
       "      <td>0.0846</td>\n",
       "      <td>3.6695</td>\n",
       "      <td>0.0</td>\n",
       "      <td>1.0</td>\n",
       "      <td>1.0</td>\n",
       "      <td>2.6641</td>\n",
       "    </tr>\n",
       "    <tr>\n",
       "      <th>4848</th>\n",
       "      <td>2.5348</td>\n",
       "      <td>8.8153</td>\n",
       "      <td>4.4925</td>\n",
       "      <td>0.1320</td>\n",
       "      <td>0.0778</td>\n",
       "      <td>4.2093</td>\n",
       "      <td>0.0</td>\n",
       "      <td>1.0</td>\n",
       "      <td>1.0</td>\n",
       "      <td>2.6623</td>\n",
       "    </tr>\n",
       "  </tbody>\n",
       "</table>\n",
       "<p>4849 rows × 10 columns</p>\n",
       "</div>"
      ],
      "text/plain": [
       "      IMAGE DERIVED DENSITY  BEST CALIPER,AVERAGE DIAMETER  \\\n",
       "0                    2.5059                        10.6431   \n",
       "1                    2.5460                        10.7011   \n",
       "2                    2.5642                        10.7012   \n",
       "3                    2.5808                        10.6773   \n",
       "4                    2.5632                        10.6162   \n",
       "...                     ...                            ...   \n",
       "4844                 2.4938                         8.6622   \n",
       "4845                 2.4953                         8.6795   \n",
       "4846                 2.5187                         8.7354   \n",
       "4847                 2.5254                         8.7734   \n",
       "4848                 2.5348                         8.8153   \n",
       "\n",
       "      IMAGE DERIVED PHOTOELECTRIC FACTOR  BEST THERMAL POROSITY  \\\n",
       "0                                18.4555                 0.1919   \n",
       "1                                18.8648                 0.1862   \n",
       "2                                19.3160                 0.1830   \n",
       "3                                19.6845                 0.1739   \n",
       "4                                19.4390                 0.1547   \n",
       "...                                  ...                    ...   \n",
       "4844                              2.9538                 0.1388   \n",
       "4845                              3.1663                 0.1429   \n",
       "4846                              3.4114                 0.1303   \n",
       "4847                              4.0108                 0.1365   \n",
       "4848                              4.4925                 0.1320   \n",
       "\n",
       "      TOTAL POROSITY  RESISTIVITY OF WATER FILLED FORMATION  \\\n",
       "0             0.1300                                 3.8568   \n",
       "1             0.1111                                 4.9163   \n",
       "2             0.1015                                 5.7882   \n",
       "3             0.0927                                 6.8120   \n",
       "4             0.1053                                 5.4189   \n",
       "...              ...                                    ...   \n",
       "4844          0.1072                                 2.4755   \n",
       "4845          0.1064                                 2.5113   \n",
       "4846          0.0908                                 3.2910   \n",
       "4847          0.0846                                 3.6695   \n",
       "4848          0.0778                                 4.2093   \n",
       "\n",
       "      RELATIVE PERMEABILITY TO HYDROCARBON  RELATIVE PERMEABILITY TO WATER  \\\n",
       "0                                      0.0                             1.0   \n",
       "1                                      0.0                             1.0   \n",
       "2                                      0.0                             1.0   \n",
       "3                                      0.0                             1.0   \n",
       "4                                      0.0                             1.0   \n",
       "...                                    ...                             ...   \n",
       "4844                                   0.0                             1.0   \n",
       "4845                                   0.0                             1.0   \n",
       "4846                                   0.0                             1.0   \n",
       "4847                                   0.0                             1.0   \n",
       "4848                                   0.0                             1.0   \n",
       "\n",
       "      WATER CUT  MATRIX BULK DENSITY FROM ELEMENTAL CONCENTRATIONS  \n",
       "0           1.0                                             2.7292  \n",
       "1           1.0                                             2.7379  \n",
       "2           1.0                                             2.7397  \n",
       "3           1.0                                             2.7413  \n",
       "4           1.0                                             2.7459  \n",
       "...         ...                                                ...  \n",
       "4844        1.0                                             2.6704  \n",
       "4845        1.0                                             2.6704  \n",
       "4846        1.0                                             2.6679  \n",
       "4847        1.0                                             2.6641  \n",
       "4848        1.0                                             2.6623  \n",
       "\n",
       "[4849 rows x 10 columns]"
      ]
     },
     "execution_count": 68,
     "metadata": {},
     "output_type": "execute_result"
    }
   ],
   "source": [
    "df1=df0.replace(-999.25,np.NaN)\n",
    "df1"
   ]
  },
  {
   "cell_type": "code",
   "execution_count": 69,
   "id": "36459ff6",
   "metadata": {},
   "outputs": [
    {
     "data": {
      "text/html": [
       "<div>\n",
       "<style scoped>\n",
       "    .dataframe tbody tr th:only-of-type {\n",
       "        vertical-align: middle;\n",
       "    }\n",
       "\n",
       "    .dataframe tbody tr th {\n",
       "        vertical-align: top;\n",
       "    }\n",
       "\n",
       "    .dataframe thead th {\n",
       "        text-align: right;\n",
       "    }\n",
       "</style>\n",
       "<table border=\"1\" class=\"dataframe\">\n",
       "  <thead>\n",
       "    <tr style=\"text-align: right;\">\n",
       "      <th></th>\n",
       "      <th>IMAGE DERIVED DENSITY</th>\n",
       "      <th>BEST CALIPER,AVERAGE DIAMETER</th>\n",
       "      <th>IMAGE DERIVED PHOTOELECTRIC FACTOR</th>\n",
       "      <th>BEST THERMAL POROSITY</th>\n",
       "      <th>TOTAL POROSITY</th>\n",
       "      <th>RESISTIVITY OF WATER FILLED FORMATION</th>\n",
       "      <th>RELATIVE PERMEABILITY TO HYDROCARBON</th>\n",
       "      <th>RELATIVE PERMEABILITY TO WATER</th>\n",
       "      <th>WATER CUT</th>\n",
       "      <th>MATRIX BULK DENSITY FROM ELEMENTAL CONCENTRATIONS</th>\n",
       "    </tr>\n",
       "  </thead>\n",
       "  <tbody>\n",
       "    <tr>\n",
       "      <th>0</th>\n",
       "      <td>2.5059</td>\n",
       "      <td>10.6431</td>\n",
       "      <td>18.4555</td>\n",
       "      <td>0.1919</td>\n",
       "      <td>0.1300</td>\n",
       "      <td>3.8568</td>\n",
       "      <td>0.0</td>\n",
       "      <td>1.0</td>\n",
       "      <td>1.0</td>\n",
       "      <td>2.7292</td>\n",
       "    </tr>\n",
       "    <tr>\n",
       "      <th>1</th>\n",
       "      <td>2.5460</td>\n",
       "      <td>10.7011</td>\n",
       "      <td>18.8648</td>\n",
       "      <td>0.1862</td>\n",
       "      <td>0.1111</td>\n",
       "      <td>4.9163</td>\n",
       "      <td>0.0</td>\n",
       "      <td>1.0</td>\n",
       "      <td>1.0</td>\n",
       "      <td>2.7379</td>\n",
       "    </tr>\n",
       "    <tr>\n",
       "      <th>2</th>\n",
       "      <td>2.5642</td>\n",
       "      <td>10.7012</td>\n",
       "      <td>19.3160</td>\n",
       "      <td>0.1830</td>\n",
       "      <td>0.1015</td>\n",
       "      <td>5.7882</td>\n",
       "      <td>0.0</td>\n",
       "      <td>1.0</td>\n",
       "      <td>1.0</td>\n",
       "      <td>2.7397</td>\n",
       "    </tr>\n",
       "    <tr>\n",
       "      <th>3</th>\n",
       "      <td>2.5808</td>\n",
       "      <td>10.6773</td>\n",
       "      <td>19.6845</td>\n",
       "      <td>0.1739</td>\n",
       "      <td>0.0927</td>\n",
       "      <td>6.8120</td>\n",
       "      <td>0.0</td>\n",
       "      <td>1.0</td>\n",
       "      <td>1.0</td>\n",
       "      <td>2.7413</td>\n",
       "    </tr>\n",
       "    <tr>\n",
       "      <th>4</th>\n",
       "      <td>2.5632</td>\n",
       "      <td>10.6162</td>\n",
       "      <td>19.4390</td>\n",
       "      <td>0.1547</td>\n",
       "      <td>0.1053</td>\n",
       "      <td>5.4189</td>\n",
       "      <td>0.0</td>\n",
       "      <td>1.0</td>\n",
       "      <td>1.0</td>\n",
       "      <td>2.7459</td>\n",
       "    </tr>\n",
       "    <tr>\n",
       "      <th>...</th>\n",
       "      <td>...</td>\n",
       "      <td>...</td>\n",
       "      <td>...</td>\n",
       "      <td>...</td>\n",
       "      <td>...</td>\n",
       "      <td>...</td>\n",
       "      <td>...</td>\n",
       "      <td>...</td>\n",
       "      <td>...</td>\n",
       "      <td>...</td>\n",
       "    </tr>\n",
       "    <tr>\n",
       "      <th>4844</th>\n",
       "      <td>2.4938</td>\n",
       "      <td>8.6622</td>\n",
       "      <td>2.9538</td>\n",
       "      <td>0.1388</td>\n",
       "      <td>0.1072</td>\n",
       "      <td>2.4755</td>\n",
       "      <td>0.0</td>\n",
       "      <td>1.0</td>\n",
       "      <td>1.0</td>\n",
       "      <td>2.6704</td>\n",
       "    </tr>\n",
       "    <tr>\n",
       "      <th>4845</th>\n",
       "      <td>2.4953</td>\n",
       "      <td>8.6795</td>\n",
       "      <td>3.1663</td>\n",
       "      <td>0.1429</td>\n",
       "      <td>0.1064</td>\n",
       "      <td>2.5113</td>\n",
       "      <td>0.0</td>\n",
       "      <td>1.0</td>\n",
       "      <td>1.0</td>\n",
       "      <td>2.6704</td>\n",
       "    </tr>\n",
       "    <tr>\n",
       "      <th>4846</th>\n",
       "      <td>2.5187</td>\n",
       "      <td>8.7354</td>\n",
       "      <td>3.4114</td>\n",
       "      <td>0.1303</td>\n",
       "      <td>0.0908</td>\n",
       "      <td>3.2910</td>\n",
       "      <td>0.0</td>\n",
       "      <td>1.0</td>\n",
       "      <td>1.0</td>\n",
       "      <td>2.6679</td>\n",
       "    </tr>\n",
       "    <tr>\n",
       "      <th>4847</th>\n",
       "      <td>2.5254</td>\n",
       "      <td>8.7734</td>\n",
       "      <td>4.0108</td>\n",
       "      <td>0.1365</td>\n",
       "      <td>0.0846</td>\n",
       "      <td>3.6695</td>\n",
       "      <td>0.0</td>\n",
       "      <td>1.0</td>\n",
       "      <td>1.0</td>\n",
       "      <td>2.6641</td>\n",
       "    </tr>\n",
       "    <tr>\n",
       "      <th>4848</th>\n",
       "      <td>2.5348</td>\n",
       "      <td>8.8153</td>\n",
       "      <td>4.4925</td>\n",
       "      <td>0.1320</td>\n",
       "      <td>0.0778</td>\n",
       "      <td>4.2093</td>\n",
       "      <td>0.0</td>\n",
       "      <td>1.0</td>\n",
       "      <td>1.0</td>\n",
       "      <td>2.6623</td>\n",
       "    </tr>\n",
       "  </tbody>\n",
       "</table>\n",
       "<p>4768 rows × 10 columns</p>\n",
       "</div>"
      ],
      "text/plain": [
       "      IMAGE DERIVED DENSITY  BEST CALIPER,AVERAGE DIAMETER  \\\n",
       "0                    2.5059                        10.6431   \n",
       "1                    2.5460                        10.7011   \n",
       "2                    2.5642                        10.7012   \n",
       "3                    2.5808                        10.6773   \n",
       "4                    2.5632                        10.6162   \n",
       "...                     ...                            ...   \n",
       "4844                 2.4938                         8.6622   \n",
       "4845                 2.4953                         8.6795   \n",
       "4846                 2.5187                         8.7354   \n",
       "4847                 2.5254                         8.7734   \n",
       "4848                 2.5348                         8.8153   \n",
       "\n",
       "      IMAGE DERIVED PHOTOELECTRIC FACTOR  BEST THERMAL POROSITY  \\\n",
       "0                                18.4555                 0.1919   \n",
       "1                                18.8648                 0.1862   \n",
       "2                                19.3160                 0.1830   \n",
       "3                                19.6845                 0.1739   \n",
       "4                                19.4390                 0.1547   \n",
       "...                                  ...                    ...   \n",
       "4844                              2.9538                 0.1388   \n",
       "4845                              3.1663                 0.1429   \n",
       "4846                              3.4114                 0.1303   \n",
       "4847                              4.0108                 0.1365   \n",
       "4848                              4.4925                 0.1320   \n",
       "\n",
       "      TOTAL POROSITY  RESISTIVITY OF WATER FILLED FORMATION  \\\n",
       "0             0.1300                                 3.8568   \n",
       "1             0.1111                                 4.9163   \n",
       "2             0.1015                                 5.7882   \n",
       "3             0.0927                                 6.8120   \n",
       "4             0.1053                                 5.4189   \n",
       "...              ...                                    ...   \n",
       "4844          0.1072                                 2.4755   \n",
       "4845          0.1064                                 2.5113   \n",
       "4846          0.0908                                 3.2910   \n",
       "4847          0.0846                                 3.6695   \n",
       "4848          0.0778                                 4.2093   \n",
       "\n",
       "      RELATIVE PERMEABILITY TO HYDROCARBON  RELATIVE PERMEABILITY TO WATER  \\\n",
       "0                                      0.0                             1.0   \n",
       "1                                      0.0                             1.0   \n",
       "2                                      0.0                             1.0   \n",
       "3                                      0.0                             1.0   \n",
       "4                                      0.0                             1.0   \n",
       "...                                    ...                             ...   \n",
       "4844                                   0.0                             1.0   \n",
       "4845                                   0.0                             1.0   \n",
       "4846                                   0.0                             1.0   \n",
       "4847                                   0.0                             1.0   \n",
       "4848                                   0.0                             1.0   \n",
       "\n",
       "      WATER CUT  MATRIX BULK DENSITY FROM ELEMENTAL CONCENTRATIONS  \n",
       "0           1.0                                             2.7292  \n",
       "1           1.0                                             2.7379  \n",
       "2           1.0                                             2.7397  \n",
       "3           1.0                                             2.7413  \n",
       "4           1.0                                             2.7459  \n",
       "...         ...                                                ...  \n",
       "4844        1.0                                             2.6704  \n",
       "4845        1.0                                             2.6704  \n",
       "4846        1.0                                             2.6679  \n",
       "4847        1.0                                             2.6641  \n",
       "4848        1.0                                             2.6623  \n",
       "\n",
       "[4768 rows x 10 columns]"
      ]
     },
     "execution_count": 69,
     "metadata": {},
     "output_type": "execute_result"
    }
   ],
   "source": [
    "df2=df1.dropna()\n",
    "df2"
   ]
  },
  {
   "cell_type": "code",
   "execution_count": 70,
   "id": "951d4bea",
   "metadata": {},
   "outputs": [],
   "source": [
    "from sklearn import preprocessing\n",
    "scaler = preprocessing.MinMaxScaler(copy=True)"
   ]
  },
  {
   "cell_type": "code",
   "execution_count": 71,
   "id": "0aadaff3",
   "metadata": {},
   "outputs": [
    {
     "data": {
      "text/plain": [
       "MinMaxScaler()"
      ]
     },
     "execution_count": 71,
     "metadata": {},
     "output_type": "execute_result"
    }
   ],
   "source": [
    "scaler.fit(df2)"
   ]
  },
  {
   "cell_type": "code",
   "execution_count": 72,
   "id": "5e7b655f",
   "metadata": {},
   "outputs": [
    {
     "data": {
      "text/html": [
       "<div>\n",
       "<style scoped>\n",
       "    .dataframe tbody tr th:only-of-type {\n",
       "        vertical-align: middle;\n",
       "    }\n",
       "\n",
       "    .dataframe tbody tr th {\n",
       "        vertical-align: top;\n",
       "    }\n",
       "\n",
       "    .dataframe thead th {\n",
       "        text-align: right;\n",
       "    }\n",
       "</style>\n",
       "<table border=\"1\" class=\"dataframe\">\n",
       "  <thead>\n",
       "    <tr style=\"text-align: right;\">\n",
       "      <th></th>\n",
       "      <th>IMAGE DERIVED DENSITY</th>\n",
       "      <th>BEST CALIPER,AVERAGE DIAMETER</th>\n",
       "      <th>IMAGE DERIVED PHOTOELECTRIC FACTOR</th>\n",
       "      <th>BEST THERMAL POROSITY</th>\n",
       "      <th>TOTAL POROSITY</th>\n",
       "      <th>RESISTIVITY OF WATER FILLED FORMATION</th>\n",
       "      <th>RELATIVE PERMEABILITY TO HYDROCARBON</th>\n",
       "      <th>RELATIVE PERMEABILITY TO WATER</th>\n",
       "      <th>WATER CUT</th>\n",
       "      <th>MATRIX BULK DENSITY FROM ELEMENTAL CONCENTRATIONS</th>\n",
       "    </tr>\n",
       "  </thead>\n",
       "  <tbody>\n",
       "    <tr>\n",
       "      <th>0</th>\n",
       "      <td>0.813989</td>\n",
       "      <td>0.329710</td>\n",
       "      <td>0.932446</td>\n",
       "      <td>0.202836</td>\n",
       "      <td>0.234905</td>\n",
       "      <td>0.033739</td>\n",
       "      <td>0.0</td>\n",
       "      <td>1.0</td>\n",
       "      <td>1.0</td>\n",
       "      <td>0.260072</td>\n",
       "    </tr>\n",
       "    <tr>\n",
       "      <th>1</th>\n",
       "      <td>0.841759</td>\n",
       "      <td>0.338149</td>\n",
       "      <td>0.954944</td>\n",
       "      <td>0.194671</td>\n",
       "      <td>0.195823</td>\n",
       "      <td>0.043637</td>\n",
       "      <td>0.0</td>\n",
       "      <td>1.0</td>\n",
       "      <td>1.0</td>\n",
       "      <td>0.286230</td>\n",
       "    </tr>\n",
       "    <tr>\n",
       "      <th>2</th>\n",
       "      <td>0.854363</td>\n",
       "      <td>0.338164</td>\n",
       "      <td>0.979745</td>\n",
       "      <td>0.190087</td>\n",
       "      <td>0.175972</td>\n",
       "      <td>0.051783</td>\n",
       "      <td>0.0</td>\n",
       "      <td>1.0</td>\n",
       "      <td>1.0</td>\n",
       "      <td>0.291642</td>\n",
       "    </tr>\n",
       "    <tr>\n",
       "      <th>3</th>\n",
       "      <td>0.865859</td>\n",
       "      <td>0.334686</td>\n",
       "      <td>1.000000</td>\n",
       "      <td>0.177052</td>\n",
       "      <td>0.157775</td>\n",
       "      <td>0.061348</td>\n",
       "      <td>0.0</td>\n",
       "      <td>1.0</td>\n",
       "      <td>1.0</td>\n",
       "      <td>0.296452</td>\n",
       "    </tr>\n",
       "    <tr>\n",
       "      <th>4</th>\n",
       "      <td>0.853670</td>\n",
       "      <td>0.325797</td>\n",
       "      <td>0.986506</td>\n",
       "      <td>0.149549</td>\n",
       "      <td>0.183830</td>\n",
       "      <td>0.048333</td>\n",
       "      <td>0.0</td>\n",
       "      <td>1.0</td>\n",
       "      <td>1.0</td>\n",
       "      <td>0.310283</td>\n",
       "    </tr>\n",
       "    <tr>\n",
       "      <th>...</th>\n",
       "      <td>...</td>\n",
       "      <td>...</td>\n",
       "      <td>...</td>\n",
       "      <td>...</td>\n",
       "      <td>...</td>\n",
       "      <td>...</td>\n",
       "      <td>...</td>\n",
       "      <td>...</td>\n",
       "      <td>...</td>\n",
       "      <td>...</td>\n",
       "    </tr>\n",
       "    <tr>\n",
       "      <th>4844</th>\n",
       "      <td>0.805609</td>\n",
       "      <td>0.041496</td>\n",
       "      <td>0.080372</td>\n",
       "      <td>0.126773</td>\n",
       "      <td>0.187758</td>\n",
       "      <td>0.020834</td>\n",
       "      <td>0.0</td>\n",
       "      <td>1.0</td>\n",
       "      <td>1.0</td>\n",
       "      <td>0.083283</td>\n",
       "    </tr>\n",
       "    <tr>\n",
       "      <th>4845</th>\n",
       "      <td>0.806648</td>\n",
       "      <td>0.044013</td>\n",
       "      <td>0.092052</td>\n",
       "      <td>0.132646</td>\n",
       "      <td>0.186104</td>\n",
       "      <td>0.021168</td>\n",
       "      <td>0.0</td>\n",
       "      <td>1.0</td>\n",
       "      <td>1.0</td>\n",
       "      <td>0.083283</td>\n",
       "    </tr>\n",
       "    <tr>\n",
       "      <th>4846</th>\n",
       "      <td>0.822853</td>\n",
       "      <td>0.052146</td>\n",
       "      <td>0.105525</td>\n",
       "      <td>0.114597</td>\n",
       "      <td>0.153846</td>\n",
       "      <td>0.028453</td>\n",
       "      <td>0.0</td>\n",
       "      <td>1.0</td>\n",
       "      <td>1.0</td>\n",
       "      <td>0.075767</td>\n",
       "    </tr>\n",
       "    <tr>\n",
       "      <th>4847</th>\n",
       "      <td>0.827493</td>\n",
       "      <td>0.057675</td>\n",
       "      <td>0.138472</td>\n",
       "      <td>0.123478</td>\n",
       "      <td>0.141026</td>\n",
       "      <td>0.031989</td>\n",
       "      <td>0.0</td>\n",
       "      <td>1.0</td>\n",
       "      <td>1.0</td>\n",
       "      <td>0.064342</td>\n",
       "    </tr>\n",
       "    <tr>\n",
       "      <th>4848</th>\n",
       "      <td>0.834003</td>\n",
       "      <td>0.063771</td>\n",
       "      <td>0.164949</td>\n",
       "      <td>0.117032</td>\n",
       "      <td>0.126964</td>\n",
       "      <td>0.037032</td>\n",
       "      <td>0.0</td>\n",
       "      <td>1.0</td>\n",
       "      <td>1.0</td>\n",
       "      <td>0.058930</td>\n",
       "    </tr>\n",
       "  </tbody>\n",
       "</table>\n",
       "<p>4768 rows × 10 columns</p>\n",
       "</div>"
      ],
      "text/plain": [
       "      IMAGE DERIVED DENSITY  BEST CALIPER,AVERAGE DIAMETER  \\\n",
       "0                  0.813989                       0.329710   \n",
       "1                  0.841759                       0.338149   \n",
       "2                  0.854363                       0.338164   \n",
       "3                  0.865859                       0.334686   \n",
       "4                  0.853670                       0.325797   \n",
       "...                     ...                            ...   \n",
       "4844               0.805609                       0.041496   \n",
       "4845               0.806648                       0.044013   \n",
       "4846               0.822853                       0.052146   \n",
       "4847               0.827493                       0.057675   \n",
       "4848               0.834003                       0.063771   \n",
       "\n",
       "      IMAGE DERIVED PHOTOELECTRIC FACTOR  BEST THERMAL POROSITY  \\\n",
       "0                               0.932446               0.202836   \n",
       "1                               0.954944               0.194671   \n",
       "2                               0.979745               0.190087   \n",
       "3                               1.000000               0.177052   \n",
       "4                               0.986506               0.149549   \n",
       "...                                  ...                    ...   \n",
       "4844                            0.080372               0.126773   \n",
       "4845                            0.092052               0.132646   \n",
       "4846                            0.105525               0.114597   \n",
       "4847                            0.138472               0.123478   \n",
       "4848                            0.164949               0.117032   \n",
       "\n",
       "      TOTAL POROSITY  RESISTIVITY OF WATER FILLED FORMATION  \\\n",
       "0           0.234905                               0.033739   \n",
       "1           0.195823                               0.043637   \n",
       "2           0.175972                               0.051783   \n",
       "3           0.157775                               0.061348   \n",
       "4           0.183830                               0.048333   \n",
       "...              ...                                    ...   \n",
       "4844        0.187758                               0.020834   \n",
       "4845        0.186104                               0.021168   \n",
       "4846        0.153846                               0.028453   \n",
       "4847        0.141026                               0.031989   \n",
       "4848        0.126964                               0.037032   \n",
       "\n",
       "      RELATIVE PERMEABILITY TO HYDROCARBON  RELATIVE PERMEABILITY TO WATER  \\\n",
       "0                                      0.0                             1.0   \n",
       "1                                      0.0                             1.0   \n",
       "2                                      0.0                             1.0   \n",
       "3                                      0.0                             1.0   \n",
       "4                                      0.0                             1.0   \n",
       "...                                    ...                             ...   \n",
       "4844                                   0.0                             1.0   \n",
       "4845                                   0.0                             1.0   \n",
       "4846                                   0.0                             1.0   \n",
       "4847                                   0.0                             1.0   \n",
       "4848                                   0.0                             1.0   \n",
       "\n",
       "      WATER CUT  MATRIX BULK DENSITY FROM ELEMENTAL CONCENTRATIONS  \n",
       "0           1.0                                           0.260072  \n",
       "1           1.0                                           0.286230  \n",
       "2           1.0                                           0.291642  \n",
       "3           1.0                                           0.296452  \n",
       "4           1.0                                           0.310283  \n",
       "...         ...                                                ...  \n",
       "4844        1.0                                           0.083283  \n",
       "4845        1.0                                           0.083283  \n",
       "4846        1.0                                           0.075767  \n",
       "4847        1.0                                           0.064342  \n",
       "4848        1.0                                           0.058930  \n",
       "\n",
       "[4768 rows x 10 columns]"
      ]
     },
     "execution_count": 72,
     "metadata": {},
     "output_type": "execute_result"
    }
   ],
   "source": [
    "df3=pd.DataFrame(scaler.transform(df2),index=df2.index, columns=df2.columns)\n",
    "df3"
   ]
  },
  {
   "cell_type": "code",
   "execution_count": 12,
   "id": "ae0247d6",
   "metadata": {},
   "outputs": [
    {
     "data": {
      "text/plain": [
       "0       0.234905\n",
       "1       0.195823\n",
       "2       0.175972\n",
       "3       0.157775\n",
       "4       0.183830\n",
       "          ...   \n",
       "4844    0.187758\n",
       "4845    0.186104\n",
       "4846    0.153846\n",
       "4847    0.141026\n",
       "4848    0.126964\n",
       "Name: TOTAL POROSITY, Length: 4768, dtype: float64"
      ]
     },
     "execution_count": 12,
     "metadata": {},
     "output_type": "execute_result"
    }
   ],
   "source": [
    "Y=df3[\"TOTAL POROSITY\"]\n",
    "Y"
   ]
  },
  {
   "cell_type": "code",
   "execution_count": 13,
   "id": "fe675529",
   "metadata": {},
   "outputs": [
    {
     "data": {
      "text/html": [
       "<div>\n",
       "<style scoped>\n",
       "    .dataframe tbody tr th:only-of-type {\n",
       "        vertical-align: middle;\n",
       "    }\n",
       "\n",
       "    .dataframe tbody tr th {\n",
       "        vertical-align: top;\n",
       "    }\n",
       "\n",
       "    .dataframe thead th {\n",
       "        text-align: right;\n",
       "    }\n",
       "</style>\n",
       "<table border=\"1\" class=\"dataframe\">\n",
       "  <thead>\n",
       "    <tr style=\"text-align: right;\">\n",
       "      <th></th>\n",
       "      <th>IMAGE DERIVED DENSITY</th>\n",
       "      <th>BEST CALIPER,AVERAGE DIAMETER</th>\n",
       "      <th>IMAGE DERIVED PHOTOELECTRIC FACTOR</th>\n",
       "      <th>BEST THERMAL POROSITY</th>\n",
       "      <th>RESISTIVITY OF WATER FILLED FORMATION</th>\n",
       "      <th>RELATIVE PERMEABILITY TO HYDROCARBON</th>\n",
       "      <th>RELATIVE PERMEABILITY TO WATER</th>\n",
       "      <th>WATER CUT</th>\n",
       "      <th>MATRIX BULK DENSITY FROM ELEMENTAL CONCENTRATIONS</th>\n",
       "    </tr>\n",
       "  </thead>\n",
       "  <tbody>\n",
       "    <tr>\n",
       "      <th>0</th>\n",
       "      <td>0.813989</td>\n",
       "      <td>0.329710</td>\n",
       "      <td>0.932446</td>\n",
       "      <td>0.202836</td>\n",
       "      <td>0.033739</td>\n",
       "      <td>0.0</td>\n",
       "      <td>1.0</td>\n",
       "      <td>1.0</td>\n",
       "      <td>0.260072</td>\n",
       "    </tr>\n",
       "    <tr>\n",
       "      <th>1</th>\n",
       "      <td>0.841759</td>\n",
       "      <td>0.338149</td>\n",
       "      <td>0.954944</td>\n",
       "      <td>0.194671</td>\n",
       "      <td>0.043637</td>\n",
       "      <td>0.0</td>\n",
       "      <td>1.0</td>\n",
       "      <td>1.0</td>\n",
       "      <td>0.286230</td>\n",
       "    </tr>\n",
       "    <tr>\n",
       "      <th>2</th>\n",
       "      <td>0.854363</td>\n",
       "      <td>0.338164</td>\n",
       "      <td>0.979745</td>\n",
       "      <td>0.190087</td>\n",
       "      <td>0.051783</td>\n",
       "      <td>0.0</td>\n",
       "      <td>1.0</td>\n",
       "      <td>1.0</td>\n",
       "      <td>0.291642</td>\n",
       "    </tr>\n",
       "    <tr>\n",
       "      <th>3</th>\n",
       "      <td>0.865859</td>\n",
       "      <td>0.334686</td>\n",
       "      <td>1.000000</td>\n",
       "      <td>0.177052</td>\n",
       "      <td>0.061348</td>\n",
       "      <td>0.0</td>\n",
       "      <td>1.0</td>\n",
       "      <td>1.0</td>\n",
       "      <td>0.296452</td>\n",
       "    </tr>\n",
       "    <tr>\n",
       "      <th>4</th>\n",
       "      <td>0.853670</td>\n",
       "      <td>0.325797</td>\n",
       "      <td>0.986506</td>\n",
       "      <td>0.149549</td>\n",
       "      <td>0.048333</td>\n",
       "      <td>0.0</td>\n",
       "      <td>1.0</td>\n",
       "      <td>1.0</td>\n",
       "      <td>0.310283</td>\n",
       "    </tr>\n",
       "    <tr>\n",
       "      <th>...</th>\n",
       "      <td>...</td>\n",
       "      <td>...</td>\n",
       "      <td>...</td>\n",
       "      <td>...</td>\n",
       "      <td>...</td>\n",
       "      <td>...</td>\n",
       "      <td>...</td>\n",
       "      <td>...</td>\n",
       "      <td>...</td>\n",
       "    </tr>\n",
       "    <tr>\n",
       "      <th>4844</th>\n",
       "      <td>0.805609</td>\n",
       "      <td>0.041496</td>\n",
       "      <td>0.080372</td>\n",
       "      <td>0.126773</td>\n",
       "      <td>0.020834</td>\n",
       "      <td>0.0</td>\n",
       "      <td>1.0</td>\n",
       "      <td>1.0</td>\n",
       "      <td>0.083283</td>\n",
       "    </tr>\n",
       "    <tr>\n",
       "      <th>4845</th>\n",
       "      <td>0.806648</td>\n",
       "      <td>0.044013</td>\n",
       "      <td>0.092052</td>\n",
       "      <td>0.132646</td>\n",
       "      <td>0.021168</td>\n",
       "      <td>0.0</td>\n",
       "      <td>1.0</td>\n",
       "      <td>1.0</td>\n",
       "      <td>0.083283</td>\n",
       "    </tr>\n",
       "    <tr>\n",
       "      <th>4846</th>\n",
       "      <td>0.822853</td>\n",
       "      <td>0.052146</td>\n",
       "      <td>0.105525</td>\n",
       "      <td>0.114597</td>\n",
       "      <td>0.028453</td>\n",
       "      <td>0.0</td>\n",
       "      <td>1.0</td>\n",
       "      <td>1.0</td>\n",
       "      <td>0.075767</td>\n",
       "    </tr>\n",
       "    <tr>\n",
       "      <th>4847</th>\n",
       "      <td>0.827493</td>\n",
       "      <td>0.057675</td>\n",
       "      <td>0.138472</td>\n",
       "      <td>0.123478</td>\n",
       "      <td>0.031989</td>\n",
       "      <td>0.0</td>\n",
       "      <td>1.0</td>\n",
       "      <td>1.0</td>\n",
       "      <td>0.064342</td>\n",
       "    </tr>\n",
       "    <tr>\n",
       "      <th>4848</th>\n",
       "      <td>0.834003</td>\n",
       "      <td>0.063771</td>\n",
       "      <td>0.164949</td>\n",
       "      <td>0.117032</td>\n",
       "      <td>0.037032</td>\n",
       "      <td>0.0</td>\n",
       "      <td>1.0</td>\n",
       "      <td>1.0</td>\n",
       "      <td>0.058930</td>\n",
       "    </tr>\n",
       "  </tbody>\n",
       "</table>\n",
       "<p>4768 rows × 9 columns</p>\n",
       "</div>"
      ],
      "text/plain": [
       "      IMAGE DERIVED DENSITY  BEST CALIPER,AVERAGE DIAMETER  \\\n",
       "0                  0.813989                       0.329710   \n",
       "1                  0.841759                       0.338149   \n",
       "2                  0.854363                       0.338164   \n",
       "3                  0.865859                       0.334686   \n",
       "4                  0.853670                       0.325797   \n",
       "...                     ...                            ...   \n",
       "4844               0.805609                       0.041496   \n",
       "4845               0.806648                       0.044013   \n",
       "4846               0.822853                       0.052146   \n",
       "4847               0.827493                       0.057675   \n",
       "4848               0.834003                       0.063771   \n",
       "\n",
       "      IMAGE DERIVED PHOTOELECTRIC FACTOR  BEST THERMAL POROSITY  \\\n",
       "0                               0.932446               0.202836   \n",
       "1                               0.954944               0.194671   \n",
       "2                               0.979745               0.190087   \n",
       "3                               1.000000               0.177052   \n",
       "4                               0.986506               0.149549   \n",
       "...                                  ...                    ...   \n",
       "4844                            0.080372               0.126773   \n",
       "4845                            0.092052               0.132646   \n",
       "4846                            0.105525               0.114597   \n",
       "4847                            0.138472               0.123478   \n",
       "4848                            0.164949               0.117032   \n",
       "\n",
       "      RESISTIVITY OF WATER FILLED FORMATION  \\\n",
       "0                                  0.033739   \n",
       "1                                  0.043637   \n",
       "2                                  0.051783   \n",
       "3                                  0.061348   \n",
       "4                                  0.048333   \n",
       "...                                     ...   \n",
       "4844                               0.020834   \n",
       "4845                               0.021168   \n",
       "4846                               0.028453   \n",
       "4847                               0.031989   \n",
       "4848                               0.037032   \n",
       "\n",
       "      RELATIVE PERMEABILITY TO HYDROCARBON  RELATIVE PERMEABILITY TO WATER  \\\n",
       "0                                      0.0                             1.0   \n",
       "1                                      0.0                             1.0   \n",
       "2                                      0.0                             1.0   \n",
       "3                                      0.0                             1.0   \n",
       "4                                      0.0                             1.0   \n",
       "...                                    ...                             ...   \n",
       "4844                                   0.0                             1.0   \n",
       "4845                                   0.0                             1.0   \n",
       "4846                                   0.0                             1.0   \n",
       "4847                                   0.0                             1.0   \n",
       "4848                                   0.0                             1.0   \n",
       "\n",
       "      WATER CUT  MATRIX BULK DENSITY FROM ELEMENTAL CONCENTRATIONS  \n",
       "0           1.0                                           0.260072  \n",
       "1           1.0                                           0.286230  \n",
       "2           1.0                                           0.291642  \n",
       "3           1.0                                           0.296452  \n",
       "4           1.0                                           0.310283  \n",
       "...         ...                                                ...  \n",
       "4844        1.0                                           0.083283  \n",
       "4845        1.0                                           0.083283  \n",
       "4846        1.0                                           0.075767  \n",
       "4847        1.0                                           0.064342  \n",
       "4848        1.0                                           0.058930  \n",
       "\n",
       "[4768 rows x 9 columns]"
      ]
     },
     "execution_count": 13,
     "metadata": {},
     "output_type": "execute_result"
    }
   ],
   "source": [
    "X=df3.drop(\"TOTAL POROSITY\",axis=1)\n",
    "X"
   ]
  },
  {
   "cell_type": "code",
   "execution_count": 14,
   "id": "ee6e25cc",
   "metadata": {},
   "outputs": [],
   "source": [
    "from sklearn.model_selection import train_test_split\n",
    "X_train,X_test,Y_train,Y_test=train_test_split(X,Y,test_size=0.25)"
   ]
  },
  {
   "cell_type": "code",
   "execution_count": 15,
   "id": "50a4d2d8",
   "metadata": {},
   "outputs": [],
   "source": [
    "from sklearn.ensemble import RandomForestRegressor\n",
    "model=RandomForestRegressor()\n"
   ]
  },
  {
   "cell_type": "code",
   "execution_count": 16,
   "id": "b00084cb",
   "metadata": {
    "scrolled": true
   },
   "outputs": [
    {
     "data": {
      "text/plain": [
       "RandomForestRegressor()"
      ]
     },
     "execution_count": 16,
     "metadata": {},
     "output_type": "execute_result"
    }
   ],
   "source": [
    "model.fit(X_train,Y_train)"
   ]
  },
  {
   "cell_type": "code",
   "execution_count": 17,
   "id": "5e30fd89",
   "metadata": {},
   "outputs": [],
   "source": [
    "random_pred= model.predict(X_test)"
   ]
  },
  {
   "cell_type": "code",
   "execution_count": 18,
   "id": "0308293f",
   "metadata": {},
   "outputs": [],
   "source": [
    "from sklearn.metrics import r2_score"
   ]
  },
  {
   "cell_type": "code",
   "execution_count": 101,
   "id": "56096947",
   "metadata": {},
   "outputs": [
    {
     "data": {
      "text/plain": [
       "0.9974265399486388"
      ]
     },
     "execution_count": 101,
     "metadata": {},
     "output_type": "execute_result"
    }
   ],
   "source": [
    "r2= r2_score(Y_test,random_pred)\n",
    "r2"
   ]
  },
  {
   "cell_type": "code",
   "execution_count": 21,
   "id": "420e1fcb",
   "metadata": {},
   "outputs": [
    {
     "data": {
      "text/plain": [
       "0.9997189783286958"
      ]
     },
     "execution_count": 21,
     "metadata": {},
     "output_type": "execute_result"
    }
   ],
   "source": [
    "model.score(X_train,Y_train)"
   ]
  },
  {
   "cell_type": "code",
   "execution_count": 22,
   "id": "11742398",
   "metadata": {},
   "outputs": [
    {
     "data": {
      "text/plain": [
       "0.9974265399486388"
      ]
     },
     "execution_count": 22,
     "metadata": {},
     "output_type": "execute_result"
    }
   ],
   "source": [
    "model.score(X_test,Y_test)"
   ]
  },
  {
   "cell_type": "code",
   "execution_count": 111,
   "id": "95015125",
   "metadata": {},
   "outputs": [],
   "source": [
    "from sklearn.linear_model import LinearRegression\n",
    "model1=LinearRegression()"
   ]
  },
  {
   "cell_type": "code",
   "execution_count": 112,
   "id": "35303d08",
   "metadata": {},
   "outputs": [
    {
     "data": {
      "text/plain": [
       "LinearRegression()"
      ]
     },
     "execution_count": 112,
     "metadata": {},
     "output_type": "execute_result"
    }
   ],
   "source": [
    "model1.fit(X_train,Y_train)"
   ]
  },
  {
   "cell_type": "code",
   "execution_count": 113,
   "id": "40f92918",
   "metadata": {},
   "outputs": [
    {
     "data": {
      "text/plain": [
       "LinearRegression()"
      ]
     },
     "execution_count": 113,
     "metadata": {},
     "output_type": "execute_result"
    }
   ],
   "source": [
    "model1.fit(X_train,Y_train)"
   ]
  },
  {
   "cell_type": "code",
   "execution_count": 114,
   "id": "218952a4",
   "metadata": {},
   "outputs": [
    {
     "data": {
      "text/plain": [
       "0.988776633767742"
      ]
     },
     "execution_count": 114,
     "metadata": {},
     "output_type": "execute_result"
    }
   ],
   "source": [
    "model1.score(X_train,Y_train)"
   ]
  },
  {
   "cell_type": "code",
   "execution_count": 115,
   "id": "202d3024",
   "metadata": {},
   "outputs": [
    {
     "data": {
      "text/plain": [
       "0.9862658456681465"
      ]
     },
     "execution_count": 115,
     "metadata": {},
     "output_type": "execute_result"
    }
   ],
   "source": [
    "model1.score(X_test,Y_test)"
   ]
  },
  {
   "cell_type": "code",
   "execution_count": 116,
   "id": "c473df6a",
   "metadata": {},
   "outputs": [],
   "source": [
    "lr_pred= model1.predict(X_test)\n",
    "r2_lr= r2_score(Y_test,lr_pred)"
   ]
  },
  {
   "cell_type": "code",
   "execution_count": 117,
   "id": "cd997c90",
   "metadata": {},
   "outputs": [
    {
     "data": {
      "text/plain": [
       "0.9862658456681465"
      ]
     },
     "execution_count": 117,
     "metadata": {},
     "output_type": "execute_result"
    }
   ],
   "source": [
    "r2_lr"
   ]
  },
  {
   "cell_type": "code",
   "execution_count": 120,
   "id": "3ec94ba3",
   "metadata": {},
   "outputs": [],
   "source": [
    "from sklearn import svm"
   ]
  },
  {
   "cell_type": "code",
   "execution_count": 121,
   "id": "e8aa8f4d",
   "metadata": {},
   "outputs": [],
   "source": [
    "model2=svm.SVR()"
   ]
  },
  {
   "cell_type": "code",
   "execution_count": 122,
   "id": "e38fa0ba",
   "metadata": {},
   "outputs": [
    {
     "data": {
      "text/plain": [
       "SVR()"
      ]
     },
     "execution_count": 122,
     "metadata": {},
     "output_type": "execute_result"
    }
   ],
   "source": [
    "model2.fit(X_train,Y_train)"
   ]
  },
  {
   "cell_type": "code",
   "execution_count": 123,
   "id": "1b3d5433",
   "metadata": {},
   "outputs": [],
   "source": [
    "svm_pred= model2.predict(X_test)"
   ]
  },
  {
   "cell_type": "code",
   "execution_count": 125,
   "id": "021e21a8",
   "metadata": {},
   "outputs": [
    {
     "data": {
      "text/plain": [
       "0.926548414365148"
      ]
     },
     "execution_count": 125,
     "metadata": {},
     "output_type": "execute_result"
    }
   ],
   "source": [
    "svm_r2= r2_score(Y_test,svm_pred)\n",
    "svm_r2"
   ]
  },
  {
   "cell_type": "code",
   "execution_count": 124,
   "id": "8707aa46",
   "metadata": {},
   "outputs": [
    {
     "data": {
      "text/plain": [
       "0.926548414365148"
      ]
     },
     "execution_count": 124,
     "metadata": {},
     "output_type": "execute_result"
    }
   ],
   "source": [
    "model2.score(X_test,Y_test)"
   ]
  },
  {
   "cell_type": "code",
   "execution_count": 32,
   "id": "c9266689",
   "metadata": {},
   "outputs": [],
   "source": [
    "from sklearn import linear_model\n",
    "model4=linear_model.Lasso(alpha=50,max_iter=100,tol=0.1)"
   ]
  },
  {
   "cell_type": "code",
   "execution_count": 33,
   "id": "2526d6c0",
   "metadata": {},
   "outputs": [
    {
     "data": {
      "text/plain": [
       "Lasso(alpha=50, max_iter=100, tol=0.1)"
      ]
     },
     "execution_count": 33,
     "metadata": {},
     "output_type": "execute_result"
    }
   ],
   "source": [
    "model4.fit(X_train,Y_train)"
   ]
  },
  {
   "cell_type": "code",
   "execution_count": 34,
   "id": "793b3379",
   "metadata": {},
   "outputs": [
    {
     "data": {
      "text/plain": [
       "-1.1583539837101142e-05"
      ]
     },
     "execution_count": 34,
     "metadata": {},
     "output_type": "execute_result"
    }
   ],
   "source": [
    "model4.score(X_test,Y_test)"
   ]
  },
  {
   "cell_type": "code",
   "execution_count": 35,
   "id": "167e638a",
   "metadata": {},
   "outputs": [
    {
     "data": {
      "text/plain": [
       "0.0"
      ]
     },
     "execution_count": 35,
     "metadata": {},
     "output_type": "execute_result"
    }
   ],
   "source": [
    "model4.score(X_train,Y_train)"
   ]
  },
  {
   "cell_type": "code",
   "execution_count": null,
   "id": "fdabecc5",
   "metadata": {},
   "outputs": [],
   "source": [
    "#from sklearn.neighbors import KNeighborsRegressor\n",
    "#from sklearn.tree import DecisionTreeRegressor\n",
    "#from sklearn.svm import SVR\n",
    "#from sklearn.ensemble import GradientBoostingRegressor, RandomForestRegressor\n",
    "\n",
    "#models = []\n",
    "#models.append(('KNN', KNeighborsRegressor(n_neighbors = 5)))\n",
    "#models.append(('DT', DecisionTreeRegressor()))\n",
    "#models.append(('SVM', SVR(kernel='linear')))\n",
    "#models.append(('GBR', GradientBoostingRegressor()))\n",
    "#models.append(('RF', RandomForestRegressor(n_estimators=250)))"
   ]
  },
  {
   "cell_type": "code",
   "execution_count": null,
   "id": "69cec11e",
   "metadata": {},
   "outputs": [],
   "source": [
    "#from sklearn import model_selection\n",
    "\n",
    "#accuracy = []\n",
    "#model_name = []\n",
    "\n",
    "#for name, model in models:\n",
    " #   kfold = model_selection.KFold(n_splits=10)\n",
    "  #  cv_results = model_selection.cross_val_score(model, X, Y, cv=kfold)\n",
    "   # accuracy.append(cv_results)\n",
    "    #model_name.append(name)"
   ]
  },
  {
   "cell_type": "code",
   "execution_count": null,
   "id": "5f8aedd9",
   "metadata": {},
   "outputs": [],
   "source": [
    "#from sklearn.pipeline import make_pipeline\n",
    "#clf = make_pipeline(preprocessing.StandardScaler(), svm.SVC(C=1))\n",
    "#cross_val_score(clf, X, Y, cv=cv)"
   ]
  },
  {
   "cell_type": "code",
   "execution_count": null,
   "id": "258d3829",
   "metadata": {},
   "outputs": [],
   "source": [
    "#plt.boxplot(accuracy)\n",
    "#plt.title('Box Plot for Model Accuracy of CST(T=0) Predictions')\n",
    "#plt.xlabel('Regression Model')\n",
    "#plt.ylabel('Model Accuracy')\n",
    "#plt.xticks([1,2,3,4,5,6], labels=model_name)\n",
    "#plt.show()"
   ]
  },
  {
   "cell_type": "code",
   "execution_count": 36,
   "id": "462c1dd1",
   "metadata": {},
   "outputs": [],
   "source": [
    "from sklearn import tree\n",
    "model5=tree.DecisionTreeRegressor()"
   ]
  },
  {
   "cell_type": "code",
   "execution_count": 37,
   "id": "cbfeecae",
   "metadata": {},
   "outputs": [
    {
     "data": {
      "text/plain": [
       "DecisionTreeRegressor()"
      ]
     },
     "execution_count": 37,
     "metadata": {},
     "output_type": "execute_result"
    }
   ],
   "source": [
    "model5.fit(X_train,Y_train)"
   ]
  },
  {
   "cell_type": "code",
   "execution_count": 38,
   "id": "67dde4cb",
   "metadata": {},
   "outputs": [
    {
     "data": {
      "text/plain": [
       "0.9935005214830044"
      ]
     },
     "execution_count": 38,
     "metadata": {},
     "output_type": "execute_result"
    }
   ],
   "source": [
    "model5.score(X_test,Y_test)"
   ]
  },
  {
   "cell_type": "code",
   "execution_count": 39,
   "id": "843acbe6",
   "metadata": {},
   "outputs": [
    {
     "data": {
      "text/plain": [
       "1.0"
      ]
     },
     "execution_count": 39,
     "metadata": {},
     "output_type": "execute_result"
    }
   ],
   "source": [
    "model5.score(X_train,Y_train)"
   ]
  },
  {
   "cell_type": "code",
   "execution_count": 40,
   "id": "137251e7",
   "metadata": {},
   "outputs": [],
   "source": [
    "from sklearn import linear_model\n",
    "model6 = linear_model.BayesianRidge()"
   ]
  },
  {
   "cell_type": "code",
   "execution_count": 41,
   "id": "f20cba70",
   "metadata": {},
   "outputs": [
    {
     "data": {
      "text/plain": [
       "BayesianRidge()"
      ]
     },
     "execution_count": 41,
     "metadata": {},
     "output_type": "execute_result"
    }
   ],
   "source": [
    "model6.fit(X_train,Y_train)"
   ]
  },
  {
   "cell_type": "code",
   "execution_count": 42,
   "id": "72f06b37",
   "metadata": {},
   "outputs": [
    {
     "data": {
      "text/plain": [
       "0.9862673110562433"
      ]
     },
     "execution_count": 42,
     "metadata": {},
     "output_type": "execute_result"
    }
   ],
   "source": [
    "model6.score(X_test,Y_test)"
   ]
  },
  {
   "cell_type": "code",
   "execution_count": 43,
   "id": "ce9b61b9",
   "metadata": {},
   "outputs": [
    {
     "data": {
      "text/plain": [
       "0.9887766241677995"
      ]
     },
     "execution_count": 43,
     "metadata": {},
     "output_type": "execute_result"
    }
   ],
   "source": [
    "model6.score(X_train,Y_train)"
   ]
  },
  {
   "cell_type": "code",
   "execution_count": 44,
   "id": "1d3272cc",
   "metadata": {},
   "outputs": [],
   "source": [
    "from sklearn.neural_network import MLPClassifier"
   ]
  },
  {
   "cell_type": "code",
   "execution_count": 45,
   "id": "4693036a",
   "metadata": {},
   "outputs": [],
   "source": [
    "model7 = MLPClassifier(solver='lbfgs', alpha=1e-5,\n",
    "               hidden_layer_sizes=(5, 2), random_state=1)"
   ]
  },
  {
   "cell_type": "code",
   "execution_count": 46,
   "id": "42310355",
   "metadata": {},
   "outputs": [],
   "source": [
    "#model7.fit(X_train,Y_train)"
   ]
  },
  {
   "cell_type": "code",
   "execution_count": 47,
   "id": "a7161be1",
   "metadata": {},
   "outputs": [],
   "source": [
    "#model7.fit(X, Y)\n",
    "#MLPClassifier(alpha=1e-05, hidden_layer_sizes=(5, 2), random_state=1,\n",
    "         #     solver='lbfgs')"
   ]
  },
  {
   "cell_type": "code",
   "execution_count": 48,
   "id": "8e2cac78",
   "metadata": {},
   "outputs": [],
   "source": [
    "from sklearn.preprocessing import StandardScaler  \n",
    "model8 = StandardScaler()  "
   ]
  },
  {
   "cell_type": "code",
   "execution_count": 49,
   "id": "323bce2d",
   "metadata": {},
   "outputs": [
    {
     "data": {
      "text/plain": [
       "StandardScaler()"
      ]
     },
     "execution_count": 49,
     "metadata": {},
     "output_type": "execute_result"
    }
   ],
   "source": [
    "model8.fit(X_train)"
   ]
  },
  {
   "cell_type": "code",
   "execution_count": 50,
   "id": "35b8df37",
   "metadata": {},
   "outputs": [],
   "source": [
    "X_train = model8.transform(X_train)"
   ]
  },
  {
   "cell_type": "code",
   "execution_count": 51,
   "id": "4d2f05f6",
   "metadata": {},
   "outputs": [],
   "source": [
    "X_test = model8.transform(X_test) "
   ]
  },
  {
   "cell_type": "code",
   "execution_count": 52,
   "id": "35062990",
   "metadata": {},
   "outputs": [],
   "source": [
    "from matplotlib import pyplot as plt\n"
   ]
  },
  {
   "cell_type": "code",
   "execution_count": 53,
   "id": "2806cd9b",
   "metadata": {},
   "outputs": [],
   "source": [
    "import seaborn as sns"
   ]
  },
  {
   "cell_type": "code",
   "execution_count": 56,
   "id": "06acb0e5",
   "metadata": {},
   "outputs": [
    {
     "data": {
      "text/plain": [
       "2061"
      ]
     },
     "execution_count": 56,
     "metadata": {},
     "output_type": "execute_result"
    }
   ],
   "source": [
    "df2['TOTAL POROSITY'].nunique()"
   ]
  },
  {
   "cell_type": "code",
   "execution_count": 57,
   "id": "9ad4b498",
   "metadata": {},
   "outputs": [
    {
     "data": {
      "text/plain": [
       "<seaborn.axisgrid.FacetGrid at 0x1e43977d580>"
      ]
     },
     "execution_count": 57,
     "metadata": {},
     "output_type": "execute_result"
    },
    {
     "data": {
      "image/png": "[encoded data removed]",
      "text/plain": [
       "<Figure size 360x360 with 1 Axes>"
      ]
     },
     "metadata": {
      "needs_background": "light"
     },
     "output_type": "display_data"
    }
   ],
   "source": [
    "sns.displot(x='TOTAL POROSITY',data=df2)"
   ]
  },
  {
   "cell_type": "code",
   "execution_count": 58,
   "id": "d66aa8f2",
   "metadata": {},
   "outputs": [
    {
     "name": "stderr",
     "output_type": "stream",
     "text": [
      "C:\\Users\\khank\\anaconda3\\lib\\site-packages\\seaborn\\_decorators.py:36: FutureWarning: Pass the following variable as a keyword arg: x. From version 0.12, the only valid positional argument will be `data`, and passing other arguments without an explicit keyword will result in an error or misinterpretation.\n",
      "  warnings.warn(\n"
     ]
    },
    {
     "data": {
      "text/plain": [
       "<AxesSubplot:xlabel='IMAGE DERIVED DENSITY'>"
      ]
     },
     "execution_count": 58,
     "metadata": {},
     "output_type": "execute_result"
    },
    {
     "data": {
      "image/png": "[encoded data removed]",
      "text/plain": [
       "<Figure size 432x288 with 1 Axes>"
      ]
     },
     "metadata": {
      "needs_background": "light"
     },
     "output_type": "display_data"
    }
   ],
   "source": [
    "sns.boxplot(df2['IMAGE DERIVED DENSITY'])"
   ]
  },
  {
   "cell_type": "code",
   "execution_count": 59,
   "id": "076aa4b5",
   "metadata": {},
   "outputs": [
    {
     "data": {
      "image/png": "[encoded data removed]",
      "text/plain": [
       "<Figure size 1080x720 with 12 Axes>"
      ]
     },
     "metadata": {
      "needs_background": "light"
     },
     "output_type": "display_data"
    }
   ],
   "source": [
    "histdf = df2.hist(bins=100,figsize=(15,10))"
   ]
  },
  {
   "cell_type": "code",
   "execution_count": 60,
   "id": "d5e572b4",
   "metadata": {
    "scrolled": true
   },
   "outputs": [
    {
     "data": {
      "text/plain": [
       "<AxesSubplot:ylabel='IMAGE DERIVED DENSITY'>"
      ]
     },
     "execution_count": 60,
     "metadata": {},
     "output_type": "execute_result"
    },
    {
     "data": {
      "image/png": "[encoded data removed]",
      "text/plain": [
       "<Figure size 432x288 with 1 Axes>"
      ]
     },
     "metadata": {
      "needs_background": "light"
     },
     "output_type": "display_data"
    }
   ],
   "source": [
    "sns.lineplot(data=df2['IMAGE DERIVED DENSITY'])"
   ]
  },
  {
   "cell_type": "code",
   "execution_count": 73,
   "id": "e9f9bb37",
   "metadata": {},
   "outputs": [
    {
     "data": {
      "text/plain": [
       "(4768, 10)"
      ]
     },
     "execution_count": 73,
     "metadata": {},
     "output_type": "execute_result"
    }
   ],
   "source": [
    "df2.shape"
   ]
  },
  {
   "cell_type": "code",
   "execution_count": 74,
   "id": "95ed2a33",
   "metadata": {},
   "outputs": [
    {
     "name": "stderr",
     "output_type": "stream",
     "text": [
      "<ipython-input-74-1a296c70b0dd>:2: SettingWithCopyWarning: \n",
      "A value is trying to be set on a copy of a slice from a DataFrame.\n",
      "Try using .loc[row_indexer,col_indexer] = value instead\n",
      "\n",
      "See the caveats in the documentation: https://pandas.pydata.org/pandas-docs/stable/user_guide/indexing.html#returning-a-view-versus-a-copy\n",
      "  df2['Depth']= depth_train\n"
     ]
    }
   ],
   "source": [
    "depth_train= np.linspace(2000,3495,len(df2))\n",
    "df2['Depth']= depth_train"
   ]
  },
  {
   "cell_type": "code",
   "execution_count": 75,
   "id": "d9cf2373",
   "metadata": {},
   "outputs": [
    {
     "data": {
      "text/html": [
       "<div>\n",
       "<style scoped>\n",
       "    .dataframe tbody tr th:only-of-type {\n",
       "        vertical-align: middle;\n",
       "    }\n",
       "\n",
       "    .dataframe tbody tr th {\n",
       "        vertical-align: top;\n",
       "    }\n",
       "\n",
       "    .dataframe thead th {\n",
       "        text-align: right;\n",
       "    }\n",
       "</style>\n",
       "<table border=\"1\" class=\"dataframe\">\n",
       "  <thead>\n",
       "    <tr style=\"text-align: right;\">\n",
       "      <th></th>\n",
       "      <th>IMAGE DERIVED DENSITY</th>\n",
       "      <th>BEST CALIPER,AVERAGE DIAMETER</th>\n",
       "      <th>IMAGE DERIVED PHOTOELECTRIC FACTOR</th>\n",
       "      <th>BEST THERMAL POROSITY</th>\n",
       "      <th>TOTAL POROSITY</th>\n",
       "      <th>RESISTIVITY OF WATER FILLED FORMATION</th>\n",
       "      <th>RELATIVE PERMEABILITY TO HYDROCARBON</th>\n",
       "      <th>RELATIVE PERMEABILITY TO WATER</th>\n",
       "      <th>WATER CUT</th>\n",
       "      <th>MATRIX BULK DENSITY FROM ELEMENTAL CONCENTRATIONS</th>\n",
       "      <th>Depth</th>\n",
       "    </tr>\n",
       "  </thead>\n",
       "  <tbody>\n",
       "    <tr>\n",
       "      <th>0</th>\n",
       "      <td>2.5059</td>\n",
       "      <td>10.6431</td>\n",
       "      <td>18.4555</td>\n",
       "      <td>0.1919</td>\n",
       "      <td>0.1300</td>\n",
       "      <td>3.8568</td>\n",
       "      <td>0.0</td>\n",
       "      <td>1.0</td>\n",
       "      <td>1.0</td>\n",
       "      <td>2.7292</td>\n",
       "      <td>2000.000000</td>\n",
       "    </tr>\n",
       "    <tr>\n",
       "      <th>1</th>\n",
       "      <td>2.5460</td>\n",
       "      <td>10.7011</td>\n",
       "      <td>18.8648</td>\n",
       "      <td>0.1862</td>\n",
       "      <td>0.1111</td>\n",
       "      <td>4.9163</td>\n",
       "      <td>0.0</td>\n",
       "      <td>1.0</td>\n",
       "      <td>1.0</td>\n",
       "      <td>2.7379</td>\n",
       "      <td>2000.313614</td>\n",
       "    </tr>\n",
       "    <tr>\n",
       "      <th>2</th>\n",
       "      <td>2.5642</td>\n",
       "      <td>10.7012</td>\n",
       "      <td>19.3160</td>\n",
       "      <td>0.1830</td>\n",
       "      <td>0.1015</td>\n",
       "      <td>5.7882</td>\n",
       "      <td>0.0</td>\n",
       "      <td>1.0</td>\n",
       "      <td>1.0</td>\n",
       "      <td>2.7397</td>\n",
       "      <td>2000.627229</td>\n",
       "    </tr>\n",
       "    <tr>\n",
       "      <th>3</th>\n",
       "      <td>2.5808</td>\n",
       "      <td>10.6773</td>\n",
       "      <td>19.6845</td>\n",
       "      <td>0.1739</td>\n",
       "      <td>0.0927</td>\n",
       "      <td>6.8120</td>\n",
       "      <td>0.0</td>\n",
       "      <td>1.0</td>\n",
       "      <td>1.0</td>\n",
       "      <td>2.7413</td>\n",
       "      <td>2000.940843</td>\n",
       "    </tr>\n",
       "    <tr>\n",
       "      <th>4</th>\n",
       "      <td>2.5632</td>\n",
       "      <td>10.6162</td>\n",
       "      <td>19.4390</td>\n",
       "      <td>0.1547</td>\n",
       "      <td>0.1053</td>\n",
       "      <td>5.4189</td>\n",
       "      <td>0.0</td>\n",
       "      <td>1.0</td>\n",
       "      <td>1.0</td>\n",
       "      <td>2.7459</td>\n",
       "      <td>2001.254458</td>\n",
       "    </tr>\n",
       "    <tr>\n",
       "      <th>...</th>\n",
       "      <td>...</td>\n",
       "      <td>...</td>\n",
       "      <td>...</td>\n",
       "      <td>...</td>\n",
       "      <td>...</td>\n",
       "      <td>...</td>\n",
       "      <td>...</td>\n",
       "      <td>...</td>\n",
       "      <td>...</td>\n",
       "      <td>...</td>\n",
       "      <td>...</td>\n",
       "    </tr>\n",
       "    <tr>\n",
       "      <th>4844</th>\n",
       "      <td>2.4938</td>\n",
       "      <td>8.6622</td>\n",
       "      <td>2.9538</td>\n",
       "      <td>0.1388</td>\n",
       "      <td>0.1072</td>\n",
       "      <td>2.4755</td>\n",
       "      <td>0.0</td>\n",
       "      <td>1.0</td>\n",
       "      <td>1.0</td>\n",
       "      <td>2.6704</td>\n",
       "      <td>3493.745542</td>\n",
       "    </tr>\n",
       "    <tr>\n",
       "      <th>4845</th>\n",
       "      <td>2.4953</td>\n",
       "      <td>8.6795</td>\n",
       "      <td>3.1663</td>\n",
       "      <td>0.1429</td>\n",
       "      <td>0.1064</td>\n",
       "      <td>2.5113</td>\n",
       "      <td>0.0</td>\n",
       "      <td>1.0</td>\n",
       "      <td>1.0</td>\n",
       "      <td>2.6704</td>\n",
       "      <td>3494.059157</td>\n",
       "    </tr>\n",
       "    <tr>\n",
       "      <th>4846</th>\n",
       "      <td>2.5187</td>\n",
       "      <td>8.7354</td>\n",
       "      <td>3.4114</td>\n",
       "      <td>0.1303</td>\n",
       "      <td>0.0908</td>\n",
       "      <td>3.2910</td>\n",
       "      <td>0.0</td>\n",
       "      <td>1.0</td>\n",
       "      <td>1.0</td>\n",
       "      <td>2.6679</td>\n",
       "      <td>3494.372771</td>\n",
       "    </tr>\n",
       "    <tr>\n",
       "      <th>4847</th>\n",
       "      <td>2.5254</td>\n",
       "      <td>8.7734</td>\n",
       "      <td>4.0108</td>\n",
       "      <td>0.1365</td>\n",
       "      <td>0.0846</td>\n",
       "      <td>3.6695</td>\n",
       "      <td>0.0</td>\n",
       "      <td>1.0</td>\n",
       "      <td>1.0</td>\n",
       "      <td>2.6641</td>\n",
       "      <td>3494.686386</td>\n",
       "    </tr>\n",
       "    <tr>\n",
       "      <th>4848</th>\n",
       "      <td>2.5348</td>\n",
       "      <td>8.8153</td>\n",
       "      <td>4.4925</td>\n",
       "      <td>0.1320</td>\n",
       "      <td>0.0778</td>\n",
       "      <td>4.2093</td>\n",
       "      <td>0.0</td>\n",
       "      <td>1.0</td>\n",
       "      <td>1.0</td>\n",
       "      <td>2.6623</td>\n",
       "      <td>3495.000000</td>\n",
       "    </tr>\n",
       "  </tbody>\n",
       "</table>\n",
       "<p>4768 rows × 11 columns</p>\n",
       "</div>"
      ],
      "text/plain": [
       "      IMAGE DERIVED DENSITY  BEST CALIPER,AVERAGE DIAMETER  \\\n",
       "0                    2.5059                        10.6431   \n",
       "1                    2.5460                        10.7011   \n",
       "2                    2.5642                        10.7012   \n",
       "3                    2.5808                        10.6773   \n",
       "4                    2.5632                        10.6162   \n",
       "...                     ...                            ...   \n",
       "4844                 2.4938                         8.6622   \n",
       "4845                 2.4953                         8.6795   \n",
       "4846                 2.5187                         8.7354   \n",
       "4847                 2.5254                         8.7734   \n",
       "4848                 2.5348                         8.8153   \n",
       "\n",
       "      IMAGE DERIVED PHOTOELECTRIC FACTOR  BEST THERMAL POROSITY  \\\n",
       "0                                18.4555                 0.1919   \n",
       "1                                18.8648                 0.1862   \n",
       "2                                19.3160                 0.1830   \n",
       "3                                19.6845                 0.1739   \n",
       "4                                19.4390                 0.1547   \n",
       "...                                  ...                    ...   \n",
       "4844                              2.9538                 0.1388   \n",
       "4845                              3.1663                 0.1429   \n",
       "4846                              3.4114                 0.1303   \n",
       "4847                              4.0108                 0.1365   \n",
       "4848                              4.4925                 0.1320   \n",
       "\n",
       "      TOTAL POROSITY  RESISTIVITY OF WATER FILLED FORMATION  \\\n",
       "0             0.1300                                 3.8568   \n",
       "1             0.1111                                 4.9163   \n",
       "2             0.1015                                 5.7882   \n",
       "3             0.0927                                 6.8120   \n",
       "4             0.1053                                 5.4189   \n",
       "...              ...                                    ...   \n",
       "4844          0.1072                                 2.4755   \n",
       "4845          0.1064                                 2.5113   \n",
       "4846          0.0908                                 3.2910   \n",
       "4847          0.0846                                 3.6695   \n",
       "4848          0.0778                                 4.2093   \n",
       "\n",
       "      RELATIVE PERMEABILITY TO HYDROCARBON  RELATIVE PERMEABILITY TO WATER  \\\n",
       "0                                      0.0                             1.0   \n",
       "1                                      0.0                             1.0   \n",
       "2                                      0.0                             1.0   \n",
       "3                                      0.0                             1.0   \n",
       "4                                      0.0                             1.0   \n",
       "...                                    ...                             ...   \n",
       "4844                                   0.0                             1.0   \n",
       "4845                                   0.0                             1.0   \n",
       "4846                                   0.0                             1.0   \n",
       "4847                                   0.0                             1.0   \n",
       "4848                                   0.0                             1.0   \n",
       "\n",
       "      WATER CUT  MATRIX BULK DENSITY FROM ELEMENTAL CONCENTRATIONS  \\\n",
       "0           1.0                                             2.7292   \n",
       "1           1.0                                             2.7379   \n",
       "2           1.0                                             2.7397   \n",
       "3           1.0                                             2.7413   \n",
       "4           1.0                                             2.7459   \n",
       "...         ...                                                ...   \n",
       "4844        1.0                                             2.6704   \n",
       "4845        1.0                                             2.6704   \n",
       "4846        1.0                                             2.6679   \n",
       "4847        1.0                                             2.6641   \n",
       "4848        1.0                                             2.6623   \n",
       "\n",
       "            Depth  \n",
       "0     2000.000000  \n",
       "1     2000.313614  \n",
       "2     2000.627229  \n",
       "3     2000.940843  \n",
       "4     2001.254458  \n",
       "...           ...  \n",
       "4844  3493.745542  \n",
       "4845  3494.059157  \n",
       "4846  3494.372771  \n",
       "4847  3494.686386  \n",
       "4848  3495.000000  \n",
       "\n",
       "[4768 rows x 11 columns]"
      ]
     },
     "execution_count": 75,
     "metadata": {},
     "output_type": "execute_result"
    }
   ],
   "source": [
    "df2"
   ]
  },
  {
   "cell_type": "code",
   "execution_count": 76,
   "id": "3a179193",
   "metadata": {},
   "outputs": [
    {
     "data": {
      "text/plain": [
       "<AxesSubplot:ylabel='BEST CALIPER,AVERAGE DIAMETER'>"
      ]
     },
     "execution_count": 76,
     "metadata": {},
     "output_type": "execute_result"
    },
    {
     "data": {
      "image/png": "[encoded data removed]",
      "text/plain": [
       "<Figure size 432x288 with 1 Axes>"
      ]
     },
     "metadata": {
      "needs_background": "light"
     },
     "output_type": "display_data"
    }
   ],
   "source": [
    "sns.lineplot(data=df2['BEST CALIPER,AVERAGE DIAMETER'])"
   ]
  },
  {
   "cell_type": "code",
   "execution_count": 82,
   "id": "fcb4c7d9",
   "metadata": {},
   "outputs": [
    {
     "data": {
      "text/plain": [
       "array([<AxesSubplot:>, <AxesSubplot:>, <AxesSubplot:>, <AxesSubplot:>,\n",
       "       <AxesSubplot:>, <AxesSubplot:>, <AxesSubplot:>, <AxesSubplot:>,\n",
       "       <AxesSubplot:>, <AxesSubplot:>, <AxesSubplot:>], dtype=object)"
      ]
     },
     "execution_count": 82,
     "metadata": {},
     "output_type": "execute_result"
    },
    {
     "data": {
      "image/png": "[encoded data removed]",
      "text/plain": [
       "<Figure size 720x2160 with 11 Axes>"
      ]
     },
     "metadata": {
      "needs_background": "light"
     },
     "output_type": "display_data"
    }
   ],
   "source": [
    "df2.plot(subplots=True,figsize=(10,30))"
   ]
  },
  {
   "cell_type": "code",
   "execution_count": null,
   "id": "a4eaabd8",
   "metadata": {},
   "outputs": [],
   "source": [
    "sns.lineplot(data=df2['IMAGE DERIVED PHOTOELECTRIC FACTOR'])"
   ]
  },
  {
   "cell_type": "code",
   "execution_count": null,
   "id": "ef0056ac",
   "metadata": {},
   "outputs": [],
   "source": [
    "sns.lineplot(data=df2['BEST THERMAL POROSITY'])"
   ]
  },
  {
   "cell_type": "code",
   "execution_count": null,
   "id": "bba679fe",
   "metadata": {},
   "outputs": [],
   "source": [
    "sns.lineplot(data=df2['RESISTIVITY OF WATER FILLED FORMATION'])"
   ]
  },
  {
   "cell_type": "code",
   "execution_count": null,
   "id": "ec130758",
   "metadata": {},
   "outputs": [],
   "source": [
    "sns.lineplot(data=df2['RELATIVE PERMEABILITY TO HYDROCARBON'])"
   ]
  },
  {
   "cell_type": "code",
   "execution_count": null,
   "id": "cebad151",
   "metadata": {},
   "outputs": [],
   "source": [
    "sns.lineplot(data=df2['RELATIVE PERMEABILITY TO WATER'])"
   ]
  },
  {
   "cell_type": "code",
   "execution_count": null,
   "id": "b69f8dd7",
   "metadata": {},
   "outputs": [],
   "source": [
    "sns.lineplot(data=df2['WATER CUT'])"
   ]
  },
  {
   "cell_type": "code",
   "execution_count": null,
   "id": "6f7c4e3c",
   "metadata": {},
   "outputs": [],
   "source": [
    "sns.lineplot(data=df2['MATRIX BULK DENSITY FROM ELEMENTAL CONCENTRATIONS'])"
   ]
  },
  {
   "cell_type": "code",
   "execution_count": null,
   "id": "12eae4b2",
   "metadata": {},
   "outputs": [],
   "source": [
    "sns.lineplot(data=df2['TOTAL POROSITY'])"
   ]
  },
  {
   "cell_type": "code",
   "execution_count": 83,
   "id": "6efab6ee",
   "metadata": {
    "scrolled": true
   },
   "outputs": [
    {
     "data": {
      "text/html": [
       "<div>\n",
       "<style scoped>\n",
       "    .dataframe tbody tr th:only-of-type {\n",
       "        vertical-align: middle;\n",
       "    }\n",
       "\n",
       "    .dataframe tbody tr th {\n",
       "        vertical-align: top;\n",
       "    }\n",
       "\n",
       "    .dataframe thead th {\n",
       "        text-align: right;\n",
       "    }\n",
       "</style>\n",
       "<table border=\"1\" class=\"dataframe\">\n",
       "  <thead>\n",
       "    <tr style=\"text-align: right;\">\n",
       "      <th></th>\n",
       "      <th>IMAGE DERIVED DENSITY</th>\n",
       "      <th>BEST CALIPER,AVERAGE DIAMETER</th>\n",
       "      <th>IMAGE DERIVED PHOTOELECTRIC FACTOR</th>\n",
       "      <th>BEST THERMAL POROSITY</th>\n",
       "      <th>TOTAL POROSITY</th>\n",
       "      <th>RESISTIVITY OF WATER FILLED FORMATION</th>\n",
       "      <th>RELATIVE PERMEABILITY TO HYDROCARBON</th>\n",
       "      <th>RELATIVE PERMEABILITY TO WATER</th>\n",
       "      <th>WATER CUT</th>\n",
       "      <th>MATRIX BULK DENSITY FROM ELEMENTAL CONCENTRATIONS</th>\n",
       "    </tr>\n",
       "  </thead>\n",
       "  <tbody>\n",
       "    <tr>\n",
       "      <th>0</th>\n",
       "      <td>0.813989</td>\n",
       "      <td>0.329710</td>\n",
       "      <td>0.932446</td>\n",
       "      <td>0.202836</td>\n",
       "      <td>0.234905</td>\n",
       "      <td>0.033739</td>\n",
       "      <td>0.0</td>\n",
       "      <td>1.0</td>\n",
       "      <td>1.0</td>\n",
       "      <td>0.260072</td>\n",
       "    </tr>\n",
       "    <tr>\n",
       "      <th>1</th>\n",
       "      <td>0.841759</td>\n",
       "      <td>0.338149</td>\n",
       "      <td>0.954944</td>\n",
       "      <td>0.194671</td>\n",
       "      <td>0.195823</td>\n",
       "      <td>0.043637</td>\n",
       "      <td>0.0</td>\n",
       "      <td>1.0</td>\n",
       "      <td>1.0</td>\n",
       "      <td>0.286230</td>\n",
       "    </tr>\n",
       "    <tr>\n",
       "      <th>2</th>\n",
       "      <td>0.854363</td>\n",
       "      <td>0.338164</td>\n",
       "      <td>0.979745</td>\n",
       "      <td>0.190087</td>\n",
       "      <td>0.175972</td>\n",
       "      <td>0.051783</td>\n",
       "      <td>0.0</td>\n",
       "      <td>1.0</td>\n",
       "      <td>1.0</td>\n",
       "      <td>0.291642</td>\n",
       "    </tr>\n",
       "    <tr>\n",
       "      <th>3</th>\n",
       "      <td>0.865859</td>\n",
       "      <td>0.334686</td>\n",
       "      <td>1.000000</td>\n",
       "      <td>0.177052</td>\n",
       "      <td>0.157775</td>\n",
       "      <td>0.061348</td>\n",
       "      <td>0.0</td>\n",
       "      <td>1.0</td>\n",
       "      <td>1.0</td>\n",
       "      <td>0.296452</td>\n",
       "    </tr>\n",
       "    <tr>\n",
       "      <th>4</th>\n",
       "      <td>0.853670</td>\n",
       "      <td>0.325797</td>\n",
       "      <td>0.986506</td>\n",
       "      <td>0.149549</td>\n",
       "      <td>0.183830</td>\n",
       "      <td>0.048333</td>\n",
       "      <td>0.0</td>\n",
       "      <td>1.0</td>\n",
       "      <td>1.0</td>\n",
       "      <td>0.310283</td>\n",
       "    </tr>\n",
       "    <tr>\n",
       "      <th>...</th>\n",
       "      <td>...</td>\n",
       "      <td>...</td>\n",
       "      <td>...</td>\n",
       "      <td>...</td>\n",
       "      <td>...</td>\n",
       "      <td>...</td>\n",
       "      <td>...</td>\n",
       "      <td>...</td>\n",
       "      <td>...</td>\n",
       "      <td>...</td>\n",
       "    </tr>\n",
       "    <tr>\n",
       "      <th>4844</th>\n",
       "      <td>0.805609</td>\n",
       "      <td>0.041496</td>\n",
       "      <td>0.080372</td>\n",
       "      <td>0.126773</td>\n",
       "      <td>0.187758</td>\n",
       "      <td>0.020834</td>\n",
       "      <td>0.0</td>\n",
       "      <td>1.0</td>\n",
       "      <td>1.0</td>\n",
       "      <td>0.083283</td>\n",
       "    </tr>\n",
       "    <tr>\n",
       "      <th>4845</th>\n",
       "      <td>0.806648</td>\n",
       "      <td>0.044013</td>\n",
       "      <td>0.092052</td>\n",
       "      <td>0.132646</td>\n",
       "      <td>0.186104</td>\n",
       "      <td>0.021168</td>\n",
       "      <td>0.0</td>\n",
       "      <td>1.0</td>\n",
       "      <td>1.0</td>\n",
       "      <td>0.083283</td>\n",
       "    </tr>\n",
       "    <tr>\n",
       "      <th>4846</th>\n",
       "      <td>0.822853</td>\n",
       "      <td>0.052146</td>\n",
       "      <td>0.105525</td>\n",
       "      <td>0.114597</td>\n",
       "      <td>0.153846</td>\n",
       "      <td>0.028453</td>\n",
       "      <td>0.0</td>\n",
       "      <td>1.0</td>\n",
       "      <td>1.0</td>\n",
       "      <td>0.075767</td>\n",
       "    </tr>\n",
       "    <tr>\n",
       "      <th>4847</th>\n",
       "      <td>0.827493</td>\n",
       "      <td>0.057675</td>\n",
       "      <td>0.138472</td>\n",
       "      <td>0.123478</td>\n",
       "      <td>0.141026</td>\n",
       "      <td>0.031989</td>\n",
       "      <td>0.0</td>\n",
       "      <td>1.0</td>\n",
       "      <td>1.0</td>\n",
       "      <td>0.064342</td>\n",
       "    </tr>\n",
       "    <tr>\n",
       "      <th>4848</th>\n",
       "      <td>0.834003</td>\n",
       "      <td>0.063771</td>\n",
       "      <td>0.164949</td>\n",
       "      <td>0.117032</td>\n",
       "      <td>0.126964</td>\n",
       "      <td>0.037032</td>\n",
       "      <td>0.0</td>\n",
       "      <td>1.0</td>\n",
       "      <td>1.0</td>\n",
       "      <td>0.058930</td>\n",
       "    </tr>\n",
       "  </tbody>\n",
       "</table>\n",
       "<p>4768 rows × 10 columns</p>\n",
       "</div>"
      ],
      "text/plain": [
       "      IMAGE DERIVED DENSITY  BEST CALIPER,AVERAGE DIAMETER  \\\n",
       "0                  0.813989                       0.329710   \n",
       "1                  0.841759                       0.338149   \n",
       "2                  0.854363                       0.338164   \n",
       "3                  0.865859                       0.334686   \n",
       "4                  0.853670                       0.325797   \n",
       "...                     ...                            ...   \n",
       "4844               0.805609                       0.041496   \n",
       "4845               0.806648                       0.044013   \n",
       "4846               0.822853                       0.052146   \n",
       "4847               0.827493                       0.057675   \n",
       "4848               0.834003                       0.063771   \n",
       "\n",
       "      IMAGE DERIVED PHOTOELECTRIC FACTOR  BEST THERMAL POROSITY  \\\n",
       "0                               0.932446               0.202836   \n",
       "1                               0.954944               0.194671   \n",
       "2                               0.979745               0.190087   \n",
       "3                               1.000000               0.177052   \n",
       "4                               0.986506               0.149549   \n",
       "...                                  ...                    ...   \n",
       "4844                            0.080372               0.126773   \n",
       "4845                            0.092052               0.132646   \n",
       "4846                            0.105525               0.114597   \n",
       "4847                            0.138472               0.123478   \n",
       "4848                            0.164949               0.117032   \n",
       "\n",
       "      TOTAL POROSITY  RESISTIVITY OF WATER FILLED FORMATION  \\\n",
       "0           0.234905                               0.033739   \n",
       "1           0.195823                               0.043637   \n",
       "2           0.175972                               0.051783   \n",
       "3           0.157775                               0.061348   \n",
       "4           0.183830                               0.048333   \n",
       "...              ...                                    ...   \n",
       "4844        0.187758                               0.020834   \n",
       "4845        0.186104                               0.021168   \n",
       "4846        0.153846                               0.028453   \n",
       "4847        0.141026                               0.031989   \n",
       "4848        0.126964                               0.037032   \n",
       "\n",
       "      RELATIVE PERMEABILITY TO HYDROCARBON  RELATIVE PERMEABILITY TO WATER  \\\n",
       "0                                      0.0                             1.0   \n",
       "1                                      0.0                             1.0   \n",
       "2                                      0.0                             1.0   \n",
       "3                                      0.0                             1.0   \n",
       "4                                      0.0                             1.0   \n",
       "...                                    ...                             ...   \n",
       "4844                                   0.0                             1.0   \n",
       "4845                                   0.0                             1.0   \n",
       "4846                                   0.0                             1.0   \n",
       "4847                                   0.0                             1.0   \n",
       "4848                                   0.0                             1.0   \n",
       "\n",
       "      WATER CUT  MATRIX BULK DENSITY FROM ELEMENTAL CONCENTRATIONS  \n",
       "0           1.0                                           0.260072  \n",
       "1           1.0                                           0.286230  \n",
       "2           1.0                                           0.291642  \n",
       "3           1.0                                           0.296452  \n",
       "4           1.0                                           0.310283  \n",
       "...         ...                                                ...  \n",
       "4844        1.0                                           0.083283  \n",
       "4845        1.0                                           0.083283  \n",
       "4846        1.0                                           0.075767  \n",
       "4847        1.0                                           0.064342  \n",
       "4848        1.0                                           0.058930  \n",
       "\n",
       "[4768 rows x 10 columns]"
      ]
     },
     "execution_count": 83,
     "metadata": {},
     "output_type": "execute_result"
    }
   ],
   "source": [
    "df3"
   ]
  },
  {
   "cell_type": "code",
   "execution_count": 84,
   "id": "568ce958",
   "metadata": {},
   "outputs": [],
   "source": [
    "random_predict= model.predict(X_test)"
   ]
  },
  {
   "cell_type": "code",
   "execution_count": 98,
   "id": "2764db95",
   "metadata": {},
   "outputs": [
    {
     "data": {
      "text/plain": [
       "array([0.09442721, 0.91774194, 0.14257237, ..., 0.97032258, 0.98515715,\n",
       "       0.89081266])"
      ]
     },
     "execution_count": 98,
     "metadata": {},
     "output_type": "execute_result"
    }
   ],
   "source": [
    "random_predict"
   ]
  },
  {
   "cell_type": "code",
   "execution_count": 99,
   "id": "d7c853f7",
   "metadata": {},
   "outputs": [
    {
     "data": {
      "text/plain": [
       "615     0.118280\n",
       "1085    0.251241\n",
       "2034    0.137924\n",
       "4557    0.127378\n",
       "3729    0.544251\n",
       "          ...   \n",
       "3421    0.541977\n",
       "1678    0.165840\n",
       "4355    0.402192\n",
       "4219    0.519851\n",
       "1549    0.187138\n",
       "Name: TOTAL POROSITY, Length: 1192, dtype: float64"
      ]
     },
     "execution_count": 99,
     "metadata": {},
     "output_type": "execute_result"
    }
   ],
   "source": [
    "Y_test"
   ]
  },
  {
   "cell_type": "code",
   "execution_count": 88,
   "id": "122dff61",
   "metadata": {},
   "outputs": [
    {
     "data": {
      "text/plain": [
       "(1192,)"
      ]
     },
     "execution_count": 88,
     "metadata": {},
     "output_type": "execute_result"
    }
   ],
   "source": [
    "random_predict.shape"
   ]
  },
  {
   "cell_type": "code",
   "execution_count": 102,
   "id": "9dc37abb",
   "metadata": {},
   "outputs": [],
   "source": [
    "preds= np.array(random_pred)"
   ]
  },
  {
   "cell_type": "code",
   "execution_count": 96,
   "id": "f9e0033f",
   "metadata": {},
   "outputs": [],
   "source": [
    "reals= np.array(Y_test)"
   ]
  },
  {
   "cell_type": "code",
   "execution_count": 103,
   "id": "d26b265d",
   "metadata": {},
   "outputs": [
    {
     "data": {
      "text/plain": [
       "0.9974265399486388"
      ]
     },
     "execution_count": 103,
     "metadata": {},
     "output_type": "execute_result"
    }
   ],
   "source": [
    "r2= r2_score(Y_test,random_pred)\n",
    "r2"
   ]
  },
  {
   "cell_type": "code",
   "execution_count": 105,
   "id": "38d410b1",
   "metadata": {},
   "outputs": [
    {
     "data": {
      "text/plain": [
       "<matplotlib.legend.Legend at 0x1e441e842b0>"
      ]
     },
     "execution_count": 105,
     "metadata": {},
     "output_type": "execute_result"
    },
    {
     "data": {
      "image/png": "[encoded data removed]",
      "text/plain": [
       "<Figure size 1080x360 with 1 Axes>"
      ]
     },
     "metadata": {
      "needs_background": "light"
     },
     "output_type": "display_data"
    }
   ],
   "source": [
    "# Plot results:\n",
    "plt.figure(figsize=(15,5))\n",
    "i = 0\n",
    "#plt.subplot(1,2,i+1)\n",
    "plt.plot(preds, reals, '.', label = 'r^2 = %.3f' % ((r2_score(reals, preds))))\n",
    "plt.plot([reals.min(),reals.max()],[reals.min(),reals.max()], 'r', label = '1:1 line')\n",
    "plt.title('#1 Porosity: y_true vs. y_ estimate for Random Forest'); plt.xlabel('Estimate'); plt.ylabel('True')\n",
    "plt.legend()"
   ]
  },
  {
   "cell_type": "code",
   "execution_count": 119,
   "id": "d73f0121",
   "metadata": {},
   "outputs": [
    {
     "data": {
      "text/plain": [
       "<matplotlib.legend.Legend at 0x1e4423be220>"
      ]
     },
     "execution_count": 119,
     "metadata": {},
     "output_type": "execute_result"
    },
    {
     "data": {
      "image/png": "[encoded data removed]",
      "text/plain": [
       "<Figure size 1080x360 with 1 Axes>"
      ]
     },
     "metadata": {
      "needs_background": "light"
     },
     "output_type": "display_data"
    }
   ],
   "source": [
    "preds= np.array(lr_pred)\n",
    "\n",
    "# Plot results:\n",
    "plt.figure(figsize=(15,5))\n",
    "i = 0\n",
    "#plt.subplot(1,2,i+1)\n",
    "plt.plot(preds, reals, '.', label = 'r^2 = %.3f' % ((r2_score(reals, preds))))\n",
    "plt.plot([reals.min(),reals.max()],[reals.min(),reals.max()], 'r', label = '1:1 line')\n",
    "plt.title('#1 Porosity: y_true vs. y_ estimate for Linear Regression'); plt.xlabel('Estimate'); plt.ylabel('True')\n",
    "plt.legend()"
   ]
  },
  {
   "cell_type": "code",
   "execution_count": 127,
   "id": "f6f1f883",
   "metadata": {},
   "outputs": [
    {
     "data": {
      "text/plain": [
       "<matplotlib.legend.Legend at 0x1e443d19220>"
      ]
     },
     "execution_count": 127,
     "metadata": {},
     "output_type": "execute_result"
    },
    {
     "data": {
      "image/png": "[encoded data removed]",
      "text/plain": [
       "<Figure size 1080x360 with 1 Axes>"
      ]
     },
     "metadata": {
      "needs_background": "light"
     },
     "output_type": "display_data"
    }
   ],
   "source": [
    "preds= np.array(svm_pred)\n",
    "\n",
    "# Plot results:\n",
    "plt.figure(figsize=(15,5))\n",
    "i = 0\n",
    "#plt.subplot(1,2,i+1)\n",
    "plt.plot(preds, reals, '.', label = 'r^2 = %.3f' % ((r2_score(reals, preds))))\n",
    "plt.plot([reals.min(),reals.max()],[reals.min(),reals.max()], 'r', label = '1:1 line')\n",
    "plt.title('#1 Porosity: y_true vs. y_ estimate for Linear Regression'); plt.xlabel('Estimate Porosity'); plt.ylabel('True Porosity')\n",
    "plt.legend()"
   ]
  },
  {
   "cell_type": "code",
   "execution_count": 129,
   "id": "c1d8981d",
   "metadata": {},
   "outputs": [],
   "source": [
    "from matplotlib import pyplot"
   ]
  },
  {
   "cell_type": "code",
   "execution_count": 132,
   "id": "dc184e23",
   "metadata": {},
   "outputs": [
    {
     "data": {
      "text/plain": [
       "array([9.40032265e-01, 3.31085338e-04, 1.52573811e-03, 1.77307202e-02,\n",
       "       1.89635151e-02, 1.52618167e-04, 7.68222659e-05, 6.96511890e-05,\n",
       "       2.11175850e-02])"
      ]
     },
     "execution_count": 132,
     "metadata": {},
     "output_type": "execute_result"
    }
   ],
   "source": [
    "model.feature_importances_"
   ]
  },
  {
   "cell_type": "code",
   "execution_count": 138,
   "id": "6154a1c5",
   "metadata": {},
   "outputs": [],
   "source": [
    "corr= df2.corr()"
   ]
  },
  {
   "cell_type": "code",
   "execution_count": 140,
   "id": "d537034c",
   "metadata": {},
   "outputs": [
    {
     "data": {
      "text/plain": [
       "<AxesSubplot:>"
      ]
     },
     "execution_count": 140,
     "metadata": {},
     "output_type": "execute_result"
    },
    {
     "data": {
      "image/png": "[encoded data removed]",
      "text/plain": [
       "<Figure size 432x288 with 2 Axes>"
      ]
     },
     "metadata": {
      "needs_background": "light"
     },
     "output_type": "display_data"
    }
   ],
   "source": [
    "sns.heatmap(corr,annot=True)"
   ]
  },
  {
   "cell_type": "code",
   "execution_count": 130,
   "id": "a929e7b7",
   "metadata": {},
   "outputs": [
    {
     "name": "stdout",
     "output_type": "stream",
     "text": [
      "Feature: 0, Score: 0.94003\n",
      "Feature: 1, Score: 0.00033\n",
      "Feature: 2, Score: 0.00153\n",
      "Feature: 3, Score: 0.01773\n",
      "Feature: 4, Score: 0.01896\n",
      "Feature: 5, Score: 0.00015\n",
      "Feature: 6, Score: 0.00008\n",
      "Feature: 7, Score: 0.00007\n",
      "Feature: 8, Score: 0.02112\n"
     ]
    },
    {
     "data": {
      "image/png": "[encoded data removed]",
      "text/plain": [
       "<Figure size 432x288 with 1 Axes>"
      ]
     },
     "metadata": {
      "needs_background": "light"
     },
     "output_type": "display_data"
    }
   ],
   "source": [
    "importance = model.feature_importances_\n",
    "# summarize feature importance\n",
    "for i,v in enumerate(importance):\n",
    "\tprint('Feature: %0d, Score: %.5f' % (i,v))\n",
    "# plot feature importance\n",
    "pyplot.bar([x for x in range(len(importance))], importance)\n",
    "pyplot.show()"
   ]
  },
  {
   "cell_type": "code",
   "execution_count": 92,
   "id": "93f08ac1",
   "metadata": {},
   "outputs": [
    {
     "data": {
      "text/plain": [
       "array([0.09442721, 0.91774194, 0.14257237, ..., 0.97032258, 0.98515715,\n",
       "       0.89081266])"
      ]
     },
     "execution_count": 92,
     "metadata": {},
     "output_type": "execute_result"
    }
   ],
   "source": [
    "random_predict"
   ]
  },
  {
   "cell_type": "code",
   "execution_count": null,
   "id": "94369161",
   "metadata": {},
   "outputs": [],
   "source": [
    "s1=pd.Series(model1.predict(X_test),name='predicted porosity',index=X_test.index)"
   ]
  },
  {
   "cell_type": "code",
   "execution_count": null,
   "id": "4fda662f",
   "metadata": {},
   "outputs": [],
   "source": [
    "output1=pd.concat([X_test,Y_test],axis=1)"
   ]
  },
  {
   "cell_type": "code",
   "execution_count": null,
   "id": "c076a901",
   "metadata": {},
   "outputs": [],
   "source": [
    "output1"
   ]
  },
  {
   "cell_type": "code",
   "execution_count": null,
   "id": "aa17a3cb",
   "metadata": {},
   "outputs": [],
   "source": [
    "sns.lineplot(data=Y_test)\n",
    "sns.lineplot(data=s1,label='predicted porosity')"
   ]
  },
  {
   "cell_type": "code",
   "execution_count": null,
   "id": "a6d5d754",
   "metadata": {},
   "outputs": [],
   "source": [
    "model1.predict(X_train)"
   ]
  },
  {
   "cell_type": "code",
   "execution_count": null,
   "id": "d54eb36a",
   "metadata": {},
   "outputs": [],
   "source": [
    "s1=pd.Series(model1.predict(X_train),name='predicted porosity',index=X_train.index)"
   ]
  },
  {
   "cell_type": "code",
   "execution_count": null,
   "id": "aaf10d72",
   "metadata": {},
   "outputs": [],
   "source": [
    "output1=pd.concat([X_train,Y_train],axis=1)"
   ]
  },
  {
   "cell_type": "code",
   "execution_count": null,
   "id": "a86d5af7",
   "metadata": {},
   "outputs": [],
   "source": [
    "sns.lineplot(data=Y_train)\n",
    "sns.lineplot(data=s1,label='predicted porosity')"
   ]
  },
  {
   "cell_type": "code",
   "execution_count": null,
   "id": "2b9ef7f1",
   "metadata": {},
   "outputs": [],
   "source": [
    "model.predict(X_test)"
   ]
  },
  {
   "cell_type": "code",
   "execution_count": null,
   "id": "0cd4e2ce",
   "metadata": {},
   "outputs": [],
   "source": [
    "s2=pd.Series(model.predict(X_test),name='predicted porosity',index=X_test.index)"
   ]
  },
  {
   "cell_type": "code",
   "execution_count": null,
   "id": "dbb90029",
   "metadata": {},
   "outputs": [],
   "source": [
    "output2=pd.concat([X_test,Y_test],axis=1)"
   ]
  },
  {
   "cell_type": "code",
   "execution_count": null,
   "id": "33962501",
   "metadata": {},
   "outputs": [],
   "source": [
    "sns.lineplot(data=Y_test)\n",
    "sns.lineplot(data=s2,label='predicted porosity')"
   ]
  },
  {
   "cell_type": "code",
   "execution_count": null,
   "id": "ace3a73c",
   "metadata": {},
   "outputs": [],
   "source": [
    "model.predict(X_train)"
   ]
  },
  {
   "cell_type": "code",
   "execution_count": null,
   "id": "de57e15a",
   "metadata": {},
   "outputs": [],
   "source": [
    "s2=pd.Series(model.predict(X_train),name='predicted porosity',index=X_train.index)"
   ]
  },
  {
   "cell_type": "code",
   "execution_count": null,
   "id": "4ae14c54",
   "metadata": {},
   "outputs": [],
   "source": [
    "output2=pd.concat([X_train,Y_train],axis=1)"
   ]
  },
  {
   "cell_type": "code",
   "execution_count": null,
   "id": "289a6d91",
   "metadata": {},
   "outputs": [],
   "source": [
    "sns.lineplot(data=Y_train)\n",
    "sns.lineplot(data=s2,label='predicted porosity')"
   ]
  },
  {
   "cell_type": "code",
   "execution_count": null,
   "id": "5b9e4be5",
   "metadata": {},
   "outputs": [],
   "source": [
    "from sklearn.metrics import mean_squared_error"
   ]
  },
  {
   "cell_type": "code",
   "execution_count": null,
   "id": "14910021",
   "metadata": {},
   "outputs": [],
   "source": [
    "mean_squared_error(X_test,Y_test)"
   ]
  },
  {
   "cell_type": "code",
   "execution_count": null,
   "id": "8ce8c606",
   "metadata": {},
   "outputs": [],
   "source": []
  }
 ],
 "metadata": {
  "kernelspec": {
   "display_name": "Python 3",
   "language": "python",
   "name": "python3"
  },
  "language_info": {
   "codemirror_mode": {
    "name": "ipython",
    "version": 3
   },
   "file_extension": ".py",
   "mimetype": "text/x-python",
   "name": "python",
   "nbconvert_exporter": "python",
   "pygments_lexer": "ipython3",
   "version": "3.8.8"
  }
 },
 "nbformat": 4,
 "nbformat_minor": 5
}
